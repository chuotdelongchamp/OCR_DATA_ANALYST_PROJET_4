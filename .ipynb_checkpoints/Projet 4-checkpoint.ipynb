{
 "cells": [
  {
   "cell_type": "markdown",
   "metadata": {
    "colab_type": "text",
    "id": "9hnZCRCFIBce"
   },
   "source": [
    "# <B> PROJET 4 : Analysez les ventes de votre entreprise <B/>"
   ]
  },
  {
   "cell_type": "code",
   "execution_count": 77,
   "metadata": {
    "colab": {
     "autoexec": {
      "startup": false,
      "wait_interval": 0
     }
    },
    "colab_type": "code",
    "id": "YkeciRRXIBcf"
   },
   "outputs": [],
   "source": [
    "import pandas as pd\n",
    "import numpy as np\n",
    "import matplotlib.pyplot as plt\n",
    "from matplotlib import rc\n",
    "import seaborn as sns\n",
    "import scipy.stats as st\n",
    "from sklearn import linear_model\n",
    "import scipy.stats\n",
    "from scipy.stats import chi2_contingency\n",
    "from scipy.stats import iqr"
   ]
  },
  {
   "cell_type": "markdown",
   "metadata": {
    "colab_type": "text",
    "id": "E7cf-NhJIBci"
   },
   "source": [
    "# <B>Mission n°1<B/>\n",
    "Avant de pouvoir entrer dans le vif du sujet, il vous faudra faire un peu de nettoyage ! Par exemple, vous devrez faire des choix quant au traitement des valeurs manquantes et des valeurs aberrantes"
   ]
  },
  {
   "cell_type": "code",
   "execution_count": 78,
   "metadata": {
    "colab": {
     "autoexec": {
      "startup": false,
      "wait_interval": 0
     }
    },
    "colab_type": "code",
    "id": "IGQyBPS3IBci"
   },
   "outputs": [
    {
     "name": "stdout",
     "output_type": "stream",
     "text": [
      "<class 'pandas.core.frame.DataFrame'>\n",
      "RangeIndex: 8623 entries, 0 to 8622\n",
      "Data columns (total 3 columns):\n",
      "client_id    8623 non-null object\n",
      "sex          8623 non-null object\n",
      "birth        8623 non-null int64\n",
      "dtypes: int64(1), object(2)\n",
      "memory usage: 202.2+ KB\n",
      "None\n",
      "_____________________________________________________\n",
      "  client_id sex  birth\n",
      "0    c_4410   f   1967\n",
      "1    c_7839   f   1975\n",
      "2    c_1699   f   1984\n",
      "3    c_5961   f   1962\n",
      "4    c_5320   m   1943\n"
     ]
    }
   ],
   "source": [
    "# j'importe les dataframe pour les analyser et nettoyer\n",
    "\n",
    "df_clients_brut = pd.read_csv(\"customers.csv\")\n",
    "print(df_clients_brut.info())\n",
    "print(\"_____________________________________________________\")\n",
    "print(df_clients_brut.head())"
   ]
  },
  {
   "cell_type": "code",
   "execution_count": 79,
   "metadata": {
    "colab": {
     "autoexec": {
      "startup": false,
      "wait_interval": 0
     },
     "base_uri": "https://localhost:8080/",
     "height": 136
    },
    "colab_type": "code",
    "executionInfo": {
     "elapsed": 403,
     "status": "ok",
     "timestamp": 1531388679473,
     "user": {
      "displayName": "Charles",
      "photoUrl": "https://lh3.googleusercontent.com/a/default-user=s128",
      "userId": "110238762482034332813"
     },
     "user_tz": -120
    },
    "id": "RBwzpUJtIBcn",
    "outputId": "a906c0cd-37fa-44f0-d3a0-6d48e05616a8"
   },
   "outputs": [
    {
     "name": "stdout",
     "output_type": "stream",
     "text": [
      "     client_id  birth\n",
      "sex                  \n",
      "f         4491   4491\n",
      "m         4132   4132\n",
      "_____________________________________________________\n",
      "Pas de doublons dans les identifiants clients ? True\n"
     ]
    }
   ],
   "source": [
    "#Je verifie la notation des colonnes sex et birth\n",
    "print(df_clients_brut.groupby(['sex']).count())\n",
    "\n",
    "print(\"_____________________________________________________\")\n",
    "\n",
    "# et si il n'y a pas de doublon dans les identifiants clients\n",
    "print(\"Pas de doublons dans les identifiants clients ?\",df_clients_brut.size == df_clients_brut.drop_duplicates('client_id').size)"
   ]
  },
  {
   "cell_type": "markdown",
   "metadata": {
    "colab_type": "text",
    "id": "HG9fnDI6IBcq"
   },
   "source": [
    "Je valide donc le df_clients_brut avec pour clé primaire client_id"
   ]
  },
  {
   "cell_type": "code",
   "execution_count": 80,
   "metadata": {
    "colab": {
     "autoexec": {
      "startup": false,
      "wait_interval": 0
     }
    },
    "colab_type": "code",
    "id": "RFMxIe5tIBcr"
   },
   "outputs": [
    {
     "name": "stdout",
     "output_type": "stream",
     "text": [
      "<class 'pandas.core.frame.DataFrame'>\n",
      "RangeIndex: 3287 entries, 0 to 3286\n",
      "Data columns (total 3 columns):\n",
      "id_prod    3287 non-null object\n",
      "price      3287 non-null float64\n",
      "categ      3287 non-null int64\n",
      "dtypes: float64(1), int64(1), object(1)\n",
      "memory usage: 77.1+ KB\n",
      "_____________________________________________________\n"
     ]
    },
    {
     "data": {
      "text/html": [
       "<div>\n",
       "<style scoped>\n",
       "    .dataframe tbody tr th:only-of-type {\n",
       "        vertical-align: middle;\n",
       "    }\n",
       "\n",
       "    .dataframe tbody tr th {\n",
       "        vertical-align: top;\n",
       "    }\n",
       "\n",
       "    .dataframe thead th {\n",
       "        text-align: right;\n",
       "    }\n",
       "</style>\n",
       "<table border=\"1\" class=\"dataframe\">\n",
       "  <thead>\n",
       "    <tr style=\"text-align: right;\">\n",
       "      <th></th>\n",
       "      <th>id_prod</th>\n",
       "      <th>price</th>\n",
       "      <th>categ</th>\n",
       "    </tr>\n",
       "  </thead>\n",
       "  <tbody>\n",
       "    <tr>\n",
       "      <th>0</th>\n",
       "      <td>0_1421</td>\n",
       "      <td>19.99</td>\n",
       "      <td>0</td>\n",
       "    </tr>\n",
       "    <tr>\n",
       "      <th>1</th>\n",
       "      <td>0_1368</td>\n",
       "      <td>5.13</td>\n",
       "      <td>0</td>\n",
       "    </tr>\n",
       "    <tr>\n",
       "      <th>2</th>\n",
       "      <td>0_731</td>\n",
       "      <td>17.99</td>\n",
       "      <td>0</td>\n",
       "    </tr>\n",
       "    <tr>\n",
       "      <th>3</th>\n",
       "      <td>1_587</td>\n",
       "      <td>4.99</td>\n",
       "      <td>1</td>\n",
       "    </tr>\n",
       "    <tr>\n",
       "      <th>4</th>\n",
       "      <td>0_1507</td>\n",
       "      <td>3.99</td>\n",
       "      <td>0</td>\n",
       "    </tr>\n",
       "  </tbody>\n",
       "</table>\n",
       "</div>"
      ],
      "text/plain": [
       "  id_prod  price  categ\n",
       "0  0_1421  19.99      0\n",
       "1  0_1368   5.13      0\n",
       "2   0_731  17.99      0\n",
       "3   1_587   4.99      1\n",
       "4  0_1507   3.99      0"
      ]
     },
     "execution_count": 80,
     "metadata": {},
     "output_type": "execute_result"
    }
   ],
   "source": [
    "df_produits_brut = pd.read_csv(\"products.csv\")\n",
    "df_produits_brut.info()\n",
    "print(\"_____________________________________________________\")\n",
    "df_produits_brut.head()"
   ]
  },
  {
   "cell_type": "code",
   "execution_count": 81,
   "metadata": {
    "colab": {
     "autoexec": {
      "startup": false,
      "wait_interval": 0
     },
     "base_uri": "https://localhost:8080/",
     "height": 53
    },
    "colab_type": "code",
    "executionInfo": {
     "elapsed": 743,
     "status": "ok",
     "timestamp": 1531388682812,
     "user": {
      "displayName": "Charles",
      "photoUrl": "https://lh3.googleusercontent.com/a/default-user=s128",
      "userId": "110238762482034332813"
     },
     "user_tz": -120
    },
    "id": "WOMvQTvZIBcw",
    "outputId": "161a082f-2147-4650-91be-1a3c2e313cd1"
   },
   "outputs": [
    {
     "name": "stdout",
     "output_type": "stream",
     "text": [
      "Pas de doublons dans les identifiants produit ? True\n"
     ]
    }
   ],
   "source": [
    "print(\"Pas de doublons dans les identifiants produit ?\",df_produits_brut.size == df_produits_brut.drop_duplicates('id_prod').size)"
   ]
  },
  {
   "cell_type": "markdown",
   "metadata": {
    "colab_type": "text",
    "id": "P52OiIjLIBcy"
   },
   "source": [
    "Je valide donc le df_produits_brut avec pour clé primaire id_prod"
   ]
  },
  {
   "cell_type": "code",
   "execution_count": 82,
   "metadata": {
    "colab": {
     "autoexec": {
      "startup": false,
      "wait_interval": 0
     }
    },
    "colab_type": "code",
    "id": "jZeG-hN2IBcz"
   },
   "outputs": [
    {
     "name": "stdout",
     "output_type": "stream",
     "text": [
      "<class 'pandas.core.frame.DataFrame'>\n",
      "RangeIndex: 337016 entries, 0 to 337015\n",
      "Data columns (total 4 columns):\n",
      "id_prod       337016 non-null object\n",
      "date          337016 non-null object\n",
      "session_id    337016 non-null object\n",
      "client_id     337016 non-null object\n",
      "dtypes: object(4)\n",
      "memory usage: 10.3+ MB\n",
      "_____________________________________________________\n"
     ]
    },
    {
     "data": {
      "text/html": [
       "<div>\n",
       "<style scoped>\n",
       "    .dataframe tbody tr th:only-of-type {\n",
       "        vertical-align: middle;\n",
       "    }\n",
       "\n",
       "    .dataframe tbody tr th {\n",
       "        vertical-align: top;\n",
       "    }\n",
       "\n",
       "    .dataframe thead th {\n",
       "        text-align: right;\n",
       "    }\n",
       "</style>\n",
       "<table border=\"1\" class=\"dataframe\">\n",
       "  <thead>\n",
       "    <tr style=\"text-align: right;\">\n",
       "      <th></th>\n",
       "      <th>id_prod</th>\n",
       "      <th>date</th>\n",
       "      <th>session_id</th>\n",
       "      <th>client_id</th>\n",
       "    </tr>\n",
       "  </thead>\n",
       "  <tbody>\n",
       "    <tr>\n",
       "      <th>45589</th>\n",
       "      <td>0_1417</td>\n",
       "      <td>2021-07-21 08:05:31.126563</td>\n",
       "      <td>s_65165</td>\n",
       "      <td>c_2786</td>\n",
       "    </tr>\n",
       "    <tr>\n",
       "      <th>242029</th>\n",
       "      <td>1_274</td>\n",
       "      <td>2021-03-03 14:38:55.915869</td>\n",
       "      <td>s_1217</td>\n",
       "      <td>c_7361</td>\n",
       "    </tr>\n",
       "    <tr>\n",
       "      <th>305004</th>\n",
       "      <td>0_1338</td>\n",
       "      <td>2021-10-23 03:53:52.878827</td>\n",
       "      <td>s_108786</td>\n",
       "      <td>c_3648</td>\n",
       "    </tr>\n",
       "    <tr>\n",
       "      <th>187223</th>\n",
       "      <td>1_480</td>\n",
       "      <td>2021-07-08 05:19:16.764034</td>\n",
       "      <td>s_59384</td>\n",
       "      <td>c_7826</td>\n",
       "    </tr>\n",
       "    <tr>\n",
       "      <th>15944</th>\n",
       "      <td>0_1307</td>\n",
       "      <td>2021-09-26 20:53:52.870235</td>\n",
       "      <td>s_95996</td>\n",
       "      <td>c_3731</td>\n",
       "    </tr>\n",
       "  </tbody>\n",
       "</table>\n",
       "</div>"
      ],
      "text/plain": [
       "       id_prod                        date session_id client_id\n",
       "45589   0_1417  2021-07-21 08:05:31.126563    s_65165    c_2786\n",
       "242029   1_274  2021-03-03 14:38:55.915869     s_1217    c_7361\n",
       "305004  0_1338  2021-10-23 03:53:52.878827   s_108786    c_3648\n",
       "187223   1_480  2021-07-08 05:19:16.764034    s_59384    c_7826\n",
       "15944   0_1307  2021-09-26 20:53:52.870235    s_95996    c_3731"
      ]
     },
     "execution_count": 82,
     "metadata": {},
     "output_type": "execute_result"
    }
   ],
   "source": [
    "df_ventes_brut = pd.read_csv(\"transactions.csv\")\n",
    "df_ventes_brut.info()\n",
    "print(\"_____________________________________________________\")\n",
    "df_ventes_brut.sample(5)"
   ]
  },
  {
   "cell_type": "code",
   "execution_count": 83,
   "metadata": {
    "colab": {
     "autoexec": {
      "startup": false,
      "wait_interval": 0
     },
     "base_uri": "https://localhost:8080/",
     "height": 53
    },
    "colab_type": "code",
    "executionInfo": {
     "elapsed": 446,
     "status": "ok",
     "timestamp": 1531388684514,
     "user": {
      "displayName": "Charles",
      "photoUrl": "https://lh3.googleusercontent.com/a/default-user=s128",
      "userId": "110238762482034332813"
     },
     "user_tz": -120
    },
    "id": "EDTxsXVXIBc3",
    "outputId": "afe57627-feff-4d70-b76d-3999c284d871"
   },
   "outputs": [
    {
     "name": "stdout",
     "output_type": "stream",
     "text": [
      "Pas de doublons dans les dates ? False\n"
     ]
    }
   ],
   "source": [
    "print(\"Pas de doublons dans les dates ?\",df_ventes_brut.size == df_ventes_brut.drop_duplicates('date').size)"
   ]
  },
  {
   "cell_type": "markdown",
   "metadata": {
    "colab_type": "text",
    "id": "ydJwfbHSIBc6"
   },
   "source": [
    "Je choisis donc deux clef primaires : date + client_id"
   ]
  },
  {
   "cell_type": "code",
   "execution_count": 84,
   "metadata": {
    "colab": {
     "autoexec": {
      "startup": false,
      "wait_interval": 0
     },
     "base_uri": "https://localhost:8080/",
     "height": 2493
    },
    "colab_type": "code",
    "executionInfo": {
     "elapsed": 1388,
     "status": "ok",
     "timestamp": 1531388686456,
     "user": {
      "displayName": "Charles",
      "photoUrl": "https://lh3.googleusercontent.com/a/default-user=s128",
      "userId": "110238762482034332813"
     },
     "user_tz": -120
    },
    "id": "ATNdsjBsIBc7",
    "outputId": "9bde2d15-1ad2-4a53-9f8d-dd5248027b77"
   },
   "outputs": [
    {
     "data": {
      "text/html": [
       "<div>\n",
       "<style scoped>\n",
       "    .dataframe tbody tr th:only-of-type {\n",
       "        vertical-align: middle;\n",
       "    }\n",
       "\n",
       "    .dataframe tbody tr th {\n",
       "        vertical-align: top;\n",
       "    }\n",
       "\n",
       "    .dataframe thead th {\n",
       "        text-align: right;\n",
       "    }\n",
       "</style>\n",
       "<table border=\"1\" class=\"dataframe\">\n",
       "  <thead>\n",
       "    <tr style=\"text-align: right;\">\n",
       "      <th></th>\n",
       "      <th>client_id</th>\n",
       "      <th>sex</th>\n",
       "      <th>birth</th>\n",
       "      <th>id_prod</th>\n",
       "      <th>date</th>\n",
       "      <th>session_id</th>\n",
       "      <th>price</th>\n",
       "      <th>categ</th>\n",
       "      <th>_merge</th>\n",
       "    </tr>\n",
       "  </thead>\n",
       "  <tbody>\n",
       "    <tr>\n",
       "      <th>266960</th>\n",
       "      <td>c_4505</td>\n",
       "      <td>m</td>\n",
       "      <td>1976.0</td>\n",
       "      <td>0_2245</td>\n",
       "      <td>2022-01-09 09:23:31.000720</td>\n",
       "      <td>s_147220</td>\n",
       "      <td>NaN</td>\n",
       "      <td>NaN</td>\n",
       "      <td>left_only</td>\n",
       "    </tr>\n",
       "    <tr>\n",
       "      <th>266961</th>\n",
       "      <td>c_3468</td>\n",
       "      <td>f</td>\n",
       "      <td>1981.0</td>\n",
       "      <td>0_2245</td>\n",
       "      <td>2021-09-11 10:52:05.205583</td>\n",
       "      <td>s_88251</td>\n",
       "      <td>NaN</td>\n",
       "      <td>NaN</td>\n",
       "      <td>left_only</td>\n",
       "    </tr>\n",
       "    <tr>\n",
       "      <th>266962</th>\n",
       "      <td>c_1403</td>\n",
       "      <td>f</td>\n",
       "      <td>1978.0</td>\n",
       "      <td>0_2245</td>\n",
       "      <td>2022-02-15 14:26:50.187952</td>\n",
       "      <td>s_165575</td>\n",
       "      <td>NaN</td>\n",
       "      <td>NaN</td>\n",
       "      <td>left_only</td>\n",
       "    </tr>\n",
       "    <tr>\n",
       "      <th>266963</th>\n",
       "      <td>c_3065</td>\n",
       "      <td>f</td>\n",
       "      <td>1977.0</td>\n",
       "      <td>0_2245</td>\n",
       "      <td>2022-01-26 13:34:33.440366</td>\n",
       "      <td>s_155484</td>\n",
       "      <td>NaN</td>\n",
       "      <td>NaN</td>\n",
       "      <td>left_only</td>\n",
       "    </tr>\n",
       "    <tr>\n",
       "      <th>266964</th>\n",
       "      <td>c_7102</td>\n",
       "      <td>m</td>\n",
       "      <td>1983.0</td>\n",
       "      <td>0_2245</td>\n",
       "      <td>2021-04-25 19:58:42.716401</td>\n",
       "      <td>s_25704</td>\n",
       "      <td>NaN</td>\n",
       "      <td>NaN</td>\n",
       "      <td>left_only</td>\n",
       "    </tr>\n",
       "    <tr>\n",
       "      <th>266965</th>\n",
       "      <td>c_1595</td>\n",
       "      <td>f</td>\n",
       "      <td>1973.0</td>\n",
       "      <td>0_2245</td>\n",
       "      <td>2021-04-27 18:58:47.703374</td>\n",
       "      <td>s_26624</td>\n",
       "      <td>NaN</td>\n",
       "      <td>NaN</td>\n",
       "      <td>left_only</td>\n",
       "    </tr>\n",
       "    <tr>\n",
       "      <th>266966</th>\n",
       "      <td>c_7790</td>\n",
       "      <td>f</td>\n",
       "      <td>1983.0</td>\n",
       "      <td>0_2245</td>\n",
       "      <td>2021-03-30 23:29:02.347672</td>\n",
       "      <td>s_13738</td>\n",
       "      <td>NaN</td>\n",
       "      <td>NaN</td>\n",
       "      <td>left_only</td>\n",
       "    </tr>\n",
       "    <tr>\n",
       "      <th>266967</th>\n",
       "      <td>c_5056</td>\n",
       "      <td>f</td>\n",
       "      <td>1991.0</td>\n",
       "      <td>0_2245</td>\n",
       "      <td>2021-09-03 04:31:18.063440</td>\n",
       "      <td>s_84343</td>\n",
       "      <td>NaN</td>\n",
       "      <td>NaN</td>\n",
       "      <td>left_only</td>\n",
       "    </tr>\n",
       "    <tr>\n",
       "      <th>266968</th>\n",
       "      <td>c_3496</td>\n",
       "      <td>f</td>\n",
       "      <td>1957.0</td>\n",
       "      <td>0_2245</td>\n",
       "      <td>2021-04-18 08:28:11.501497</td>\n",
       "      <td>s_22209</td>\n",
       "      <td>NaN</td>\n",
       "      <td>NaN</td>\n",
       "      <td>left_only</td>\n",
       "    </tr>\n",
       "    <tr>\n",
       "      <th>266969</th>\n",
       "      <td>c_7287</td>\n",
       "      <td>f</td>\n",
       "      <td>1978.0</td>\n",
       "      <td>0_2245</td>\n",
       "      <td>2022-02-20 03:50:42.646180</td>\n",
       "      <td>s_167926</td>\n",
       "      <td>NaN</td>\n",
       "      <td>NaN</td>\n",
       "      <td>left_only</td>\n",
       "    </tr>\n",
       "    <tr>\n",
       "      <th>266970</th>\n",
       "      <td>c_5953</td>\n",
       "      <td>m</td>\n",
       "      <td>1986.0</td>\n",
       "      <td>0_2245</td>\n",
       "      <td>2022-02-24 04:18:45.054650</td>\n",
       "      <td>s_169978</td>\n",
       "      <td>NaN</td>\n",
       "      <td>NaN</td>\n",
       "      <td>left_only</td>\n",
       "    </tr>\n",
       "    <tr>\n",
       "      <th>266971</th>\n",
       "      <td>c_1189</td>\n",
       "      <td>m</td>\n",
       "      <td>1985.0</td>\n",
       "      <td>0_2245</td>\n",
       "      <td>2021-03-07 20:00:01.525768</td>\n",
       "      <td>s_3159</td>\n",
       "      <td>NaN</td>\n",
       "      <td>NaN</td>\n",
       "      <td>left_only</td>\n",
       "    </tr>\n",
       "    <tr>\n",
       "      <th>266972</th>\n",
       "      <td>c_8595</td>\n",
       "      <td>f</td>\n",
       "      <td>1980.0</td>\n",
       "      <td>0_2245</td>\n",
       "      <td>2022-01-04 19:02:47.712837</td>\n",
       "      <td>s_144966</td>\n",
       "      <td>NaN</td>\n",
       "      <td>NaN</td>\n",
       "      <td>left_only</td>\n",
       "    </tr>\n",
       "    <tr>\n",
       "      <th>266973</th>\n",
       "      <td>c_966</td>\n",
       "      <td>f</td>\n",
       "      <td>1981.0</td>\n",
       "      <td>0_2245</td>\n",
       "      <td>2021-03-28 10:46:04.804784</td>\n",
       "      <td>s_12567</td>\n",
       "      <td>NaN</td>\n",
       "      <td>NaN</td>\n",
       "      <td>left_only</td>\n",
       "    </tr>\n",
       "    <tr>\n",
       "      <th>266974</th>\n",
       "      <td>c_1876</td>\n",
       "      <td>m</td>\n",
       "      <td>1983.0</td>\n",
       "      <td>0_2245</td>\n",
       "      <td>2021-04-10 02:26:04.604882</td>\n",
       "      <td>s_18428</td>\n",
       "      <td>NaN</td>\n",
       "      <td>NaN</td>\n",
       "      <td>left_only</td>\n",
       "    </tr>\n",
       "    <tr>\n",
       "      <th>266975</th>\n",
       "      <td>c_2688</td>\n",
       "      <td>f</td>\n",
       "      <td>1968.0</td>\n",
       "      <td>0_2245</td>\n",
       "      <td>2021-03-28 21:39:14.337424</td>\n",
       "      <td>s_12792</td>\n",
       "      <td>NaN</td>\n",
       "      <td>NaN</td>\n",
       "      <td>left_only</td>\n",
       "    </tr>\n",
       "    <tr>\n",
       "      <th>266976</th>\n",
       "      <td>c_4333</td>\n",
       "      <td>m</td>\n",
       "      <td>1956.0</td>\n",
       "      <td>0_2245</td>\n",
       "      <td>2021-11-11 04:36:55.259042</td>\n",
       "      <td>s_117850</td>\n",
       "      <td>NaN</td>\n",
       "      <td>NaN</td>\n",
       "      <td>left_only</td>\n",
       "    </tr>\n",
       "    <tr>\n",
       "      <th>266977</th>\n",
       "      <td>c_662</td>\n",
       "      <td>f</td>\n",
       "      <td>1968.0</td>\n",
       "      <td>0_2245</td>\n",
       "      <td>2022-02-20 02:12:36.364179</td>\n",
       "      <td>s_167890</td>\n",
       "      <td>NaN</td>\n",
       "      <td>NaN</td>\n",
       "      <td>left_only</td>\n",
       "    </tr>\n",
       "    <tr>\n",
       "      <th>266978</th>\n",
       "      <td>c_2006</td>\n",
       "      <td>f</td>\n",
       "      <td>1987.0</td>\n",
       "      <td>0_2245</td>\n",
       "      <td>2021-08-15 04:51:14.995798</td>\n",
       "      <td>s_75903</td>\n",
       "      <td>NaN</td>\n",
       "      <td>NaN</td>\n",
       "      <td>left_only</td>\n",
       "    </tr>\n",
       "    <tr>\n",
       "      <th>266979</th>\n",
       "      <td>c_6714</td>\n",
       "      <td>f</td>\n",
       "      <td>1968.0</td>\n",
       "      <td>0_2245</td>\n",
       "      <td>2021-06-05 17:04:43.982913</td>\n",
       "      <td>s_44481</td>\n",
       "      <td>NaN</td>\n",
       "      <td>NaN</td>\n",
       "      <td>left_only</td>\n",
       "    </tr>\n",
       "    <tr>\n",
       "      <th>266980</th>\n",
       "      <td>c_6714</td>\n",
       "      <td>f</td>\n",
       "      <td>1968.0</td>\n",
       "      <td>0_2245</td>\n",
       "      <td>2021-04-22 04:57:20.090378</td>\n",
       "      <td>s_23987</td>\n",
       "      <td>NaN</td>\n",
       "      <td>NaN</td>\n",
       "      <td>left_only</td>\n",
       "    </tr>\n",
       "    <tr>\n",
       "      <th>266981</th>\n",
       "      <td>c_1450</td>\n",
       "      <td>f</td>\n",
       "      <td>1959.0</td>\n",
       "      <td>0_2245</td>\n",
       "      <td>2021-05-20 07:44:21.415061</td>\n",
       "      <td>s_36985</td>\n",
       "      <td>NaN</td>\n",
       "      <td>NaN</td>\n",
       "      <td>left_only</td>\n",
       "    </tr>\n",
       "    <tr>\n",
       "      <th>266982</th>\n",
       "      <td>c_7753</td>\n",
       "      <td>f</td>\n",
       "      <td>1973.0</td>\n",
       "      <td>0_2245</td>\n",
       "      <td>2021-04-09 09:12:02.773166</td>\n",
       "      <td>s_18096</td>\n",
       "      <td>NaN</td>\n",
       "      <td>NaN</td>\n",
       "      <td>left_only</td>\n",
       "    </tr>\n",
       "    <tr>\n",
       "      <th>266983</th>\n",
       "      <td>c_4935</td>\n",
       "      <td>f</td>\n",
       "      <td>1982.0</td>\n",
       "      <td>0_2245</td>\n",
       "      <td>2021-09-19 03:08:45.918021</td>\n",
       "      <td>s_92049</td>\n",
       "      <td>NaN</td>\n",
       "      <td>NaN</td>\n",
       "      <td>left_only</td>\n",
       "    </tr>\n",
       "    <tr>\n",
       "      <th>266984</th>\n",
       "      <td>c_6752</td>\n",
       "      <td>m</td>\n",
       "      <td>1987.0</td>\n",
       "      <td>0_2245</td>\n",
       "      <td>2021-08-22 08:51:27.564509</td>\n",
       "      <td>s_79102</td>\n",
       "      <td>NaN</td>\n",
       "      <td>NaN</td>\n",
       "      <td>left_only</td>\n",
       "    </tr>\n",
       "    <tr>\n",
       "      <th>266985</th>\n",
       "      <td>c_7954</td>\n",
       "      <td>m</td>\n",
       "      <td>1973.0</td>\n",
       "      <td>0_2245</td>\n",
       "      <td>2021-06-16 05:53:01.627491</td>\n",
       "      <td>s_49323</td>\n",
       "      <td>NaN</td>\n",
       "      <td>NaN</td>\n",
       "      <td>left_only</td>\n",
       "    </tr>\n",
       "    <tr>\n",
       "      <th>266986</th>\n",
       "      <td>c_580</td>\n",
       "      <td>m</td>\n",
       "      <td>1988.0</td>\n",
       "      <td>0_2245</td>\n",
       "      <td>2021-03-01 00:09:29.301897</td>\n",
       "      <td>s_3</td>\n",
       "      <td>NaN</td>\n",
       "      <td>NaN</td>\n",
       "      <td>left_only</td>\n",
       "    </tr>\n",
       "    <tr>\n",
       "      <th>266987</th>\n",
       "      <td>c_326</td>\n",
       "      <td>f</td>\n",
       "      <td>1986.0</td>\n",
       "      <td>0_2245</td>\n",
       "      <td>2021-11-02 17:51:41.043592</td>\n",
       "      <td>s_113801</td>\n",
       "      <td>NaN</td>\n",
       "      <td>NaN</td>\n",
       "      <td>left_only</td>\n",
       "    </tr>\n",
       "    <tr>\n",
       "      <th>266988</th>\n",
       "      <td>c_8286</td>\n",
       "      <td>f</td>\n",
       "      <td>1980.0</td>\n",
       "      <td>0_2245</td>\n",
       "      <td>2021-10-26 03:31:42.296144</td>\n",
       "      <td>s_110231</td>\n",
       "      <td>NaN</td>\n",
       "      <td>NaN</td>\n",
       "      <td>left_only</td>\n",
       "    </tr>\n",
       "    <tr>\n",
       "      <th>266989</th>\n",
       "      <td>c_1551</td>\n",
       "      <td>m</td>\n",
       "      <td>1972.0</td>\n",
       "      <td>0_2245</td>\n",
       "      <td>2021-06-17 20:34:06.230094</td>\n",
       "      <td>s_50022</td>\n",
       "      <td>NaN</td>\n",
       "      <td>NaN</td>\n",
       "      <td>left_only</td>\n",
       "    </tr>\n",
       "    <tr>\n",
       "      <th>...</th>\n",
       "      <td>...</td>\n",
       "      <td>...</td>\n",
       "      <td>...</td>\n",
       "      <td>...</td>\n",
       "      <td>...</td>\n",
       "      <td>...</td>\n",
       "      <td>...</td>\n",
       "      <td>...</td>\n",
       "      <td>...</td>\n",
       "    </tr>\n",
       "    <tr>\n",
       "      <th>331128</th>\n",
       "      <td>c_5245</td>\n",
       "      <td>f</td>\n",
       "      <td>2004.0</td>\n",
       "      <td>NaN</td>\n",
       "      <td>NaN</td>\n",
       "      <td>NaN</td>\n",
       "      <td>NaN</td>\n",
       "      <td>NaN</td>\n",
       "      <td>left_only</td>\n",
       "    </tr>\n",
       "    <tr>\n",
       "      <th>331129</th>\n",
       "      <td>c_5223</td>\n",
       "      <td>m</td>\n",
       "      <td>2003.0</td>\n",
       "      <td>NaN</td>\n",
       "      <td>NaN</td>\n",
       "      <td>NaN</td>\n",
       "      <td>NaN</td>\n",
       "      <td>NaN</td>\n",
       "      <td>left_only</td>\n",
       "    </tr>\n",
       "    <tr>\n",
       "      <th>331130</th>\n",
       "      <td>c_6735</td>\n",
       "      <td>m</td>\n",
       "      <td>2004.0</td>\n",
       "      <td>NaN</td>\n",
       "      <td>NaN</td>\n",
       "      <td>NaN</td>\n",
       "      <td>NaN</td>\n",
       "      <td>NaN</td>\n",
       "      <td>left_only</td>\n",
       "    </tr>\n",
       "    <tr>\n",
       "      <th>331131</th>\n",
       "      <td>c_862</td>\n",
       "      <td>f</td>\n",
       "      <td>1956.0</td>\n",
       "      <td>NaN</td>\n",
       "      <td>NaN</td>\n",
       "      <td>NaN</td>\n",
       "      <td>NaN</td>\n",
       "      <td>NaN</td>\n",
       "      <td>left_only</td>\n",
       "    </tr>\n",
       "    <tr>\n",
       "      <th>331132</th>\n",
       "      <td>c_7584</td>\n",
       "      <td>f</td>\n",
       "      <td>1960.0</td>\n",
       "      <td>NaN</td>\n",
       "      <td>NaN</td>\n",
       "      <td>NaN</td>\n",
       "      <td>NaN</td>\n",
       "      <td>NaN</td>\n",
       "      <td>left_only</td>\n",
       "    </tr>\n",
       "    <tr>\n",
       "      <th>331133</th>\n",
       "      <td>c_90</td>\n",
       "      <td>m</td>\n",
       "      <td>2001.0</td>\n",
       "      <td>NaN</td>\n",
       "      <td>NaN</td>\n",
       "      <td>NaN</td>\n",
       "      <td>NaN</td>\n",
       "      <td>NaN</td>\n",
       "      <td>left_only</td>\n",
       "    </tr>\n",
       "    <tr>\n",
       "      <th>331134</th>\n",
       "      <td>c_587</td>\n",
       "      <td>m</td>\n",
       "      <td>1993.0</td>\n",
       "      <td>NaN</td>\n",
       "      <td>NaN</td>\n",
       "      <td>NaN</td>\n",
       "      <td>NaN</td>\n",
       "      <td>NaN</td>\n",
       "      <td>left_only</td>\n",
       "    </tr>\n",
       "    <tr>\n",
       "      <th>331135</th>\n",
       "      <td>c_3526</td>\n",
       "      <td>m</td>\n",
       "      <td>1956.0</td>\n",
       "      <td>NaN</td>\n",
       "      <td>NaN</td>\n",
       "      <td>NaN</td>\n",
       "      <td>NaN</td>\n",
       "      <td>NaN</td>\n",
       "      <td>left_only</td>\n",
       "    </tr>\n",
       "    <tr>\n",
       "      <th>337037</th>\n",
       "      <td>NaN</td>\n",
       "      <td>NaN</td>\n",
       "      <td>NaN</td>\n",
       "      <td>0_1016</td>\n",
       "      <td>NaN</td>\n",
       "      <td>NaN</td>\n",
       "      <td>35.06</td>\n",
       "      <td>0.0</td>\n",
       "      <td>right_only</td>\n",
       "    </tr>\n",
       "    <tr>\n",
       "      <th>337038</th>\n",
       "      <td>NaN</td>\n",
       "      <td>NaN</td>\n",
       "      <td>NaN</td>\n",
       "      <td>0_1780</td>\n",
       "      <td>NaN</td>\n",
       "      <td>NaN</td>\n",
       "      <td>1.67</td>\n",
       "      <td>0.0</td>\n",
       "      <td>right_only</td>\n",
       "    </tr>\n",
       "    <tr>\n",
       "      <th>337039</th>\n",
       "      <td>NaN</td>\n",
       "      <td>NaN</td>\n",
       "      <td>NaN</td>\n",
       "      <td>0_1062</td>\n",
       "      <td>NaN</td>\n",
       "      <td>NaN</td>\n",
       "      <td>20.08</td>\n",
       "      <td>0.0</td>\n",
       "      <td>right_only</td>\n",
       "    </tr>\n",
       "    <tr>\n",
       "      <th>337040</th>\n",
       "      <td>NaN</td>\n",
       "      <td>NaN</td>\n",
       "      <td>NaN</td>\n",
       "      <td>0_1119</td>\n",
       "      <td>NaN</td>\n",
       "      <td>NaN</td>\n",
       "      <td>2.99</td>\n",
       "      <td>0.0</td>\n",
       "      <td>right_only</td>\n",
       "    </tr>\n",
       "    <tr>\n",
       "      <th>337041</th>\n",
       "      <td>NaN</td>\n",
       "      <td>NaN</td>\n",
       "      <td>NaN</td>\n",
       "      <td>0_1014</td>\n",
       "      <td>NaN</td>\n",
       "      <td>NaN</td>\n",
       "      <td>1.15</td>\n",
       "      <td>0.0</td>\n",
       "      <td>right_only</td>\n",
       "    </tr>\n",
       "    <tr>\n",
       "      <th>337042</th>\n",
       "      <td>NaN</td>\n",
       "      <td>NaN</td>\n",
       "      <td>NaN</td>\n",
       "      <td>1_0</td>\n",
       "      <td>NaN</td>\n",
       "      <td>NaN</td>\n",
       "      <td>31.82</td>\n",
       "      <td>1.0</td>\n",
       "      <td>right_only</td>\n",
       "    </tr>\n",
       "    <tr>\n",
       "      <th>337043</th>\n",
       "      <td>NaN</td>\n",
       "      <td>NaN</td>\n",
       "      <td>NaN</td>\n",
       "      <td>0_1318</td>\n",
       "      <td>NaN</td>\n",
       "      <td>NaN</td>\n",
       "      <td>20.92</td>\n",
       "      <td>0.0</td>\n",
       "      <td>right_only</td>\n",
       "    </tr>\n",
       "    <tr>\n",
       "      <th>337044</th>\n",
       "      <td>NaN</td>\n",
       "      <td>NaN</td>\n",
       "      <td>NaN</td>\n",
       "      <td>0_1800</td>\n",
       "      <td>NaN</td>\n",
       "      <td>NaN</td>\n",
       "      <td>22.05</td>\n",
       "      <td>0.0</td>\n",
       "      <td>right_only</td>\n",
       "    </tr>\n",
       "    <tr>\n",
       "      <th>337045</th>\n",
       "      <td>NaN</td>\n",
       "      <td>NaN</td>\n",
       "      <td>NaN</td>\n",
       "      <td>0_1645</td>\n",
       "      <td>NaN</td>\n",
       "      <td>NaN</td>\n",
       "      <td>2.99</td>\n",
       "      <td>0.0</td>\n",
       "      <td>right_only</td>\n",
       "    </tr>\n",
       "    <tr>\n",
       "      <th>337046</th>\n",
       "      <td>NaN</td>\n",
       "      <td>NaN</td>\n",
       "      <td>NaN</td>\n",
       "      <td>0_322</td>\n",
       "      <td>NaN</td>\n",
       "      <td>NaN</td>\n",
       "      <td>2.99</td>\n",
       "      <td>0.0</td>\n",
       "      <td>right_only</td>\n",
       "    </tr>\n",
       "    <tr>\n",
       "      <th>337047</th>\n",
       "      <td>NaN</td>\n",
       "      <td>NaN</td>\n",
       "      <td>NaN</td>\n",
       "      <td>0_1620</td>\n",
       "      <td>NaN</td>\n",
       "      <td>NaN</td>\n",
       "      <td>0.80</td>\n",
       "      <td>0.0</td>\n",
       "      <td>right_only</td>\n",
       "    </tr>\n",
       "    <tr>\n",
       "      <th>337048</th>\n",
       "      <td>NaN</td>\n",
       "      <td>NaN</td>\n",
       "      <td>NaN</td>\n",
       "      <td>0_1025</td>\n",
       "      <td>NaN</td>\n",
       "      <td>NaN</td>\n",
       "      <td>24.99</td>\n",
       "      <td>0.0</td>\n",
       "      <td>right_only</td>\n",
       "    </tr>\n",
       "    <tr>\n",
       "      <th>337049</th>\n",
       "      <td>NaN</td>\n",
       "      <td>NaN</td>\n",
       "      <td>NaN</td>\n",
       "      <td>2_87</td>\n",
       "      <td>NaN</td>\n",
       "      <td>NaN</td>\n",
       "      <td>220.99</td>\n",
       "      <td>2.0</td>\n",
       "      <td>right_only</td>\n",
       "    </tr>\n",
       "    <tr>\n",
       "      <th>337050</th>\n",
       "      <td>NaN</td>\n",
       "      <td>NaN</td>\n",
       "      <td>NaN</td>\n",
       "      <td>1_394</td>\n",
       "      <td>NaN</td>\n",
       "      <td>NaN</td>\n",
       "      <td>39.73</td>\n",
       "      <td>1.0</td>\n",
       "      <td>right_only</td>\n",
       "    </tr>\n",
       "    <tr>\n",
       "      <th>337051</th>\n",
       "      <td>NaN</td>\n",
       "      <td>NaN</td>\n",
       "      <td>NaN</td>\n",
       "      <td>2_72</td>\n",
       "      <td>NaN</td>\n",
       "      <td>NaN</td>\n",
       "      <td>141.32</td>\n",
       "      <td>2.0</td>\n",
       "      <td>right_only</td>\n",
       "    </tr>\n",
       "    <tr>\n",
       "      <th>337052</th>\n",
       "      <td>NaN</td>\n",
       "      <td>NaN</td>\n",
       "      <td>NaN</td>\n",
       "      <td>0_310</td>\n",
       "      <td>NaN</td>\n",
       "      <td>NaN</td>\n",
       "      <td>1.94</td>\n",
       "      <td>0.0</td>\n",
       "      <td>right_only</td>\n",
       "    </tr>\n",
       "    <tr>\n",
       "      <th>337053</th>\n",
       "      <td>NaN</td>\n",
       "      <td>NaN</td>\n",
       "      <td>NaN</td>\n",
       "      <td>0_1624</td>\n",
       "      <td>NaN</td>\n",
       "      <td>NaN</td>\n",
       "      <td>24.50</td>\n",
       "      <td>0.0</td>\n",
       "      <td>right_only</td>\n",
       "    </tr>\n",
       "    <tr>\n",
       "      <th>337054</th>\n",
       "      <td>NaN</td>\n",
       "      <td>NaN</td>\n",
       "      <td>NaN</td>\n",
       "      <td>0_525</td>\n",
       "      <td>NaN</td>\n",
       "      <td>NaN</td>\n",
       "      <td>2.99</td>\n",
       "      <td>0.0</td>\n",
       "      <td>right_only</td>\n",
       "    </tr>\n",
       "    <tr>\n",
       "      <th>337055</th>\n",
       "      <td>NaN</td>\n",
       "      <td>NaN</td>\n",
       "      <td>NaN</td>\n",
       "      <td>2_86</td>\n",
       "      <td>NaN</td>\n",
       "      <td>NaN</td>\n",
       "      <td>132.36</td>\n",
       "      <td>2.0</td>\n",
       "      <td>right_only</td>\n",
       "    </tr>\n",
       "    <tr>\n",
       "      <th>337056</th>\n",
       "      <td>NaN</td>\n",
       "      <td>NaN</td>\n",
       "      <td>NaN</td>\n",
       "      <td>0_299</td>\n",
       "      <td>NaN</td>\n",
       "      <td>NaN</td>\n",
       "      <td>22.99</td>\n",
       "      <td>0.0</td>\n",
       "      <td>right_only</td>\n",
       "    </tr>\n",
       "    <tr>\n",
       "      <th>337057</th>\n",
       "      <td>NaN</td>\n",
       "      <td>NaN</td>\n",
       "      <td>NaN</td>\n",
       "      <td>0_510</td>\n",
       "      <td>NaN</td>\n",
       "      <td>NaN</td>\n",
       "      <td>23.66</td>\n",
       "      <td>0.0</td>\n",
       "      <td>right_only</td>\n",
       "    </tr>\n",
       "    <tr>\n",
       "      <th>337058</th>\n",
       "      <td>NaN</td>\n",
       "      <td>NaN</td>\n",
       "      <td>NaN</td>\n",
       "      <td>0_2308</td>\n",
       "      <td>NaN</td>\n",
       "      <td>NaN</td>\n",
       "      <td>20.28</td>\n",
       "      <td>0.0</td>\n",
       "      <td>right_only</td>\n",
       "    </tr>\n",
       "  </tbody>\n",
       "</table>\n",
       "<p>146 rows × 9 columns</p>\n",
       "</div>"
      ],
      "text/plain": [
       "       client_id  sex   birth id_prod                        date session_id  \\\n",
       "266960    c_4505    m  1976.0  0_2245  2022-01-09 09:23:31.000720   s_147220   \n",
       "266961    c_3468    f  1981.0  0_2245  2021-09-11 10:52:05.205583    s_88251   \n",
       "266962    c_1403    f  1978.0  0_2245  2022-02-15 14:26:50.187952   s_165575   \n",
       "266963    c_3065    f  1977.0  0_2245  2022-01-26 13:34:33.440366   s_155484   \n",
       "266964    c_7102    m  1983.0  0_2245  2021-04-25 19:58:42.716401    s_25704   \n",
       "266965    c_1595    f  1973.0  0_2245  2021-04-27 18:58:47.703374    s_26624   \n",
       "266966    c_7790    f  1983.0  0_2245  2021-03-30 23:29:02.347672    s_13738   \n",
       "266967    c_5056    f  1991.0  0_2245  2021-09-03 04:31:18.063440    s_84343   \n",
       "266968    c_3496    f  1957.0  0_2245  2021-04-18 08:28:11.501497    s_22209   \n",
       "266969    c_7287    f  1978.0  0_2245  2022-02-20 03:50:42.646180   s_167926   \n",
       "266970    c_5953    m  1986.0  0_2245  2022-02-24 04:18:45.054650   s_169978   \n",
       "266971    c_1189    m  1985.0  0_2245  2021-03-07 20:00:01.525768     s_3159   \n",
       "266972    c_8595    f  1980.0  0_2245  2022-01-04 19:02:47.712837   s_144966   \n",
       "266973     c_966    f  1981.0  0_2245  2021-03-28 10:46:04.804784    s_12567   \n",
       "266974    c_1876    m  1983.0  0_2245  2021-04-10 02:26:04.604882    s_18428   \n",
       "266975    c_2688    f  1968.0  0_2245  2021-03-28 21:39:14.337424    s_12792   \n",
       "266976    c_4333    m  1956.0  0_2245  2021-11-11 04:36:55.259042   s_117850   \n",
       "266977     c_662    f  1968.0  0_2245  2022-02-20 02:12:36.364179   s_167890   \n",
       "266978    c_2006    f  1987.0  0_2245  2021-08-15 04:51:14.995798    s_75903   \n",
       "266979    c_6714    f  1968.0  0_2245  2021-06-05 17:04:43.982913    s_44481   \n",
       "266980    c_6714    f  1968.0  0_2245  2021-04-22 04:57:20.090378    s_23987   \n",
       "266981    c_1450    f  1959.0  0_2245  2021-05-20 07:44:21.415061    s_36985   \n",
       "266982    c_7753    f  1973.0  0_2245  2021-04-09 09:12:02.773166    s_18096   \n",
       "266983    c_4935    f  1982.0  0_2245  2021-09-19 03:08:45.918021    s_92049   \n",
       "266984    c_6752    m  1987.0  0_2245  2021-08-22 08:51:27.564509    s_79102   \n",
       "266985    c_7954    m  1973.0  0_2245  2021-06-16 05:53:01.627491    s_49323   \n",
       "266986     c_580    m  1988.0  0_2245  2021-03-01 00:09:29.301897        s_3   \n",
       "266987     c_326    f  1986.0  0_2245  2021-11-02 17:51:41.043592   s_113801   \n",
       "266988    c_8286    f  1980.0  0_2245  2021-10-26 03:31:42.296144   s_110231   \n",
       "266989    c_1551    m  1972.0  0_2245  2021-06-17 20:34:06.230094    s_50022   \n",
       "...          ...  ...     ...     ...                         ...        ...   \n",
       "331128    c_5245    f  2004.0     NaN                         NaN        NaN   \n",
       "331129    c_5223    m  2003.0     NaN                         NaN        NaN   \n",
       "331130    c_6735    m  2004.0     NaN                         NaN        NaN   \n",
       "331131     c_862    f  1956.0     NaN                         NaN        NaN   \n",
       "331132    c_7584    f  1960.0     NaN                         NaN        NaN   \n",
       "331133      c_90    m  2001.0     NaN                         NaN        NaN   \n",
       "331134     c_587    m  1993.0     NaN                         NaN        NaN   \n",
       "331135    c_3526    m  1956.0     NaN                         NaN        NaN   \n",
       "337037       NaN  NaN     NaN  0_1016                         NaN        NaN   \n",
       "337038       NaN  NaN     NaN  0_1780                         NaN        NaN   \n",
       "337039       NaN  NaN     NaN  0_1062                         NaN        NaN   \n",
       "337040       NaN  NaN     NaN  0_1119                         NaN        NaN   \n",
       "337041       NaN  NaN     NaN  0_1014                         NaN        NaN   \n",
       "337042       NaN  NaN     NaN     1_0                         NaN        NaN   \n",
       "337043       NaN  NaN     NaN  0_1318                         NaN        NaN   \n",
       "337044       NaN  NaN     NaN  0_1800                         NaN        NaN   \n",
       "337045       NaN  NaN     NaN  0_1645                         NaN        NaN   \n",
       "337046       NaN  NaN     NaN   0_322                         NaN        NaN   \n",
       "337047       NaN  NaN     NaN  0_1620                         NaN        NaN   \n",
       "337048       NaN  NaN     NaN  0_1025                         NaN        NaN   \n",
       "337049       NaN  NaN     NaN    2_87                         NaN        NaN   \n",
       "337050       NaN  NaN     NaN   1_394                         NaN        NaN   \n",
       "337051       NaN  NaN     NaN    2_72                         NaN        NaN   \n",
       "337052       NaN  NaN     NaN   0_310                         NaN        NaN   \n",
       "337053       NaN  NaN     NaN  0_1624                         NaN        NaN   \n",
       "337054       NaN  NaN     NaN   0_525                         NaN        NaN   \n",
       "337055       NaN  NaN     NaN    2_86                         NaN        NaN   \n",
       "337056       NaN  NaN     NaN   0_299                         NaN        NaN   \n",
       "337057       NaN  NaN     NaN   0_510                         NaN        NaN   \n",
       "337058       NaN  NaN     NaN  0_2308                         NaN        NaN   \n",
       "\n",
       "         price  categ      _merge  \n",
       "266960     NaN    NaN   left_only  \n",
       "266961     NaN    NaN   left_only  \n",
       "266962     NaN    NaN   left_only  \n",
       "266963     NaN    NaN   left_only  \n",
       "266964     NaN    NaN   left_only  \n",
       "266965     NaN    NaN   left_only  \n",
       "266966     NaN    NaN   left_only  \n",
       "266967     NaN    NaN   left_only  \n",
       "266968     NaN    NaN   left_only  \n",
       "266969     NaN    NaN   left_only  \n",
       "266970     NaN    NaN   left_only  \n",
       "266971     NaN    NaN   left_only  \n",
       "266972     NaN    NaN   left_only  \n",
       "266973     NaN    NaN   left_only  \n",
       "266974     NaN    NaN   left_only  \n",
       "266975     NaN    NaN   left_only  \n",
       "266976     NaN    NaN   left_only  \n",
       "266977     NaN    NaN   left_only  \n",
       "266978     NaN    NaN   left_only  \n",
       "266979     NaN    NaN   left_only  \n",
       "266980     NaN    NaN   left_only  \n",
       "266981     NaN    NaN   left_only  \n",
       "266982     NaN    NaN   left_only  \n",
       "266983     NaN    NaN   left_only  \n",
       "266984     NaN    NaN   left_only  \n",
       "266985     NaN    NaN   left_only  \n",
       "266986     NaN    NaN   left_only  \n",
       "266987     NaN    NaN   left_only  \n",
       "266988     NaN    NaN   left_only  \n",
       "266989     NaN    NaN   left_only  \n",
       "...        ...    ...         ...  \n",
       "331128     NaN    NaN   left_only  \n",
       "331129     NaN    NaN   left_only  \n",
       "331130     NaN    NaN   left_only  \n",
       "331131     NaN    NaN   left_only  \n",
       "331132     NaN    NaN   left_only  \n",
       "331133     NaN    NaN   left_only  \n",
       "331134     NaN    NaN   left_only  \n",
       "331135     NaN    NaN   left_only  \n",
       "337037   35.06    0.0  right_only  \n",
       "337038    1.67    0.0  right_only  \n",
       "337039   20.08    0.0  right_only  \n",
       "337040    2.99    0.0  right_only  \n",
       "337041    1.15    0.0  right_only  \n",
       "337042   31.82    1.0  right_only  \n",
       "337043   20.92    0.0  right_only  \n",
       "337044   22.05    0.0  right_only  \n",
       "337045    2.99    0.0  right_only  \n",
       "337046    2.99    0.0  right_only  \n",
       "337047    0.80    0.0  right_only  \n",
       "337048   24.99    0.0  right_only  \n",
       "337049  220.99    2.0  right_only  \n",
       "337050   39.73    1.0  right_only  \n",
       "337051  141.32    2.0  right_only  \n",
       "337052    1.94    0.0  right_only  \n",
       "337053   24.50    0.0  right_only  \n",
       "337054    2.99    0.0  right_only  \n",
       "337055  132.36    2.0  right_only  \n",
       "337056   22.99    0.0  right_only  \n",
       "337057   23.66    0.0  right_only  \n",
       "337058   20.28    0.0  right_only  \n",
       "\n",
       "[146 rows x 9 columns]"
      ]
     },
     "execution_count": 84,
     "metadata": {},
     "output_type": "execute_result"
    }
   ],
   "source": [
    "#Les 3 datarames peuvent êtres joints, grâce au client_id et l'id_prod\n",
    "df_1 = pd.merge(df_clients_brut, df_ventes_brut, how='left', indicator = True)\n",
    "df_clients_sans_achats = df_1.loc[df_1['_merge'] != 'both'] #Je créé un df avec juste les clients qui n'ont pas acheté\n",
    "df_1 = df_1.drop('_merge',1) # je supprime la colonne _merge\n",
    "df_brut = pd.merge(df_1, df_produits_brut, how ='outer', indicator = True) #Je joins ce df avec les produits\n",
    "\n",
    "df_brut.loc[df_brut['_merge'] != 'both'] #Pour vérifier les incohérences"
   ]
  },
  {
   "cell_type": "markdown",
   "metadata": {
    "colab_type": "text",
    "id": "mWMqoBgdIBdB"
   },
   "source": [
    "Nous avons donc des produits non vendus et surtout des ventes qui ne sont pas reliées avec des produits, et donc des prix"
   ]
  },
  {
   "cell_type": "code",
   "execution_count": 85,
   "metadata": {
    "colab": {
     "autoexec": {
      "startup": false,
      "wait_interval": 0
     },
     "base_uri": "https://localhost:8080/",
     "height": 301
    },
    "colab_type": "code",
    "executionInfo": {
     "elapsed": 459,
     "status": "ok",
     "timestamp": 1531388687601,
     "user": {
      "displayName": "Charles",
      "photoUrl": "https://lh3.googleusercontent.com/a/default-user=s128",
      "userId": "110238762482034332813"
     },
     "user_tz": -120
    },
    "id": "rexrQ_PtIBdB",
    "outputId": "b579205f-7144-4d7c-d723-7af932c1e32f"
   },
   "outputs": [
    {
     "data": {
      "text/html": [
       "<div>\n",
       "<style scoped>\n",
       "    .dataframe tbody tr th:only-of-type {\n",
       "        vertical-align: middle;\n",
       "    }\n",
       "\n",
       "    .dataframe tbody tr th {\n",
       "        vertical-align: top;\n",
       "    }\n",
       "\n",
       "    .dataframe thead th {\n",
       "        text-align: right;\n",
       "    }\n",
       "</style>\n",
       "<table border=\"1\" class=\"dataframe\">\n",
       "  <thead>\n",
       "    <tr style=\"text-align: right;\">\n",
       "      <th></th>\n",
       "      <th>client_id</th>\n",
       "      <th>sex</th>\n",
       "      <th>birth</th>\n",
       "      <th>id_prod</th>\n",
       "      <th>date</th>\n",
       "      <th>session_id</th>\n",
       "      <th>price</th>\n",
       "      <th>categ</th>\n",
       "      <th>_merge</th>\n",
       "    </tr>\n",
       "  </thead>\n",
       "  <tbody>\n",
       "    <tr>\n",
       "      <th>336234</th>\n",
       "      <td>ct_0</td>\n",
       "      <td>f</td>\n",
       "      <td>2001.0</td>\n",
       "      <td>T_0</td>\n",
       "      <td>test_2021-03-01 02:30:02.237441</td>\n",
       "      <td>s_0</td>\n",
       "      <td>-1.0</td>\n",
       "      <td>0.0</td>\n",
       "      <td>both</td>\n",
       "    </tr>\n",
       "    <tr>\n",
       "      <th>336235</th>\n",
       "      <td>ct_0</td>\n",
       "      <td>f</td>\n",
       "      <td>2001.0</td>\n",
       "      <td>T_0</td>\n",
       "      <td>test_2021-03-01 02:30:02.237443</td>\n",
       "      <td>s_0</td>\n",
       "      <td>-1.0</td>\n",
       "      <td>0.0</td>\n",
       "      <td>both</td>\n",
       "    </tr>\n",
       "    <tr>\n",
       "      <th>336236</th>\n",
       "      <td>ct_0</td>\n",
       "      <td>f</td>\n",
       "      <td>2001.0</td>\n",
       "      <td>T_0</td>\n",
       "      <td>test_2021-03-01 02:30:02.237442</td>\n",
       "      <td>s_0</td>\n",
       "      <td>-1.0</td>\n",
       "      <td>0.0</td>\n",
       "      <td>both</td>\n",
       "    </tr>\n",
       "    <tr>\n",
       "      <th>336237</th>\n",
       "      <td>ct_0</td>\n",
       "      <td>f</td>\n",
       "      <td>2001.0</td>\n",
       "      <td>T_0</td>\n",
       "      <td>test_2021-03-01 02:30:02.237426</td>\n",
       "      <td>s_0</td>\n",
       "      <td>-1.0</td>\n",
       "      <td>0.0</td>\n",
       "      <td>both</td>\n",
       "    </tr>\n",
       "    <tr>\n",
       "      <th>336238</th>\n",
       "      <td>ct_0</td>\n",
       "      <td>f</td>\n",
       "      <td>2001.0</td>\n",
       "      <td>T_0</td>\n",
       "      <td>test_2021-03-01 02:30:02.237434</td>\n",
       "      <td>s_0</td>\n",
       "      <td>-1.0</td>\n",
       "      <td>0.0</td>\n",
       "      <td>both</td>\n",
       "    </tr>\n",
       "  </tbody>\n",
       "</table>\n",
       "</div>"
      ],
      "text/plain": [
       "       client_id sex   birth id_prod                             date  \\\n",
       "336234      ct_0   f  2001.0     T_0  test_2021-03-01 02:30:02.237441   \n",
       "336235      ct_0   f  2001.0     T_0  test_2021-03-01 02:30:02.237443   \n",
       "336236      ct_0   f  2001.0     T_0  test_2021-03-01 02:30:02.237442   \n",
       "336237      ct_0   f  2001.0     T_0  test_2021-03-01 02:30:02.237426   \n",
       "336238      ct_0   f  2001.0     T_0  test_2021-03-01 02:30:02.237434   \n",
       "\n",
       "       session_id  price  categ _merge  \n",
       "336234        s_0   -1.0    0.0   both  \n",
       "336235        s_0   -1.0    0.0   both  \n",
       "336236        s_0   -1.0    0.0   both  \n",
       "336237        s_0   -1.0    0.0   both  \n",
       "336238        s_0   -1.0    0.0   both  "
      ]
     },
     "execution_count": 85,
     "metadata": {},
     "output_type": "execute_result"
    }
   ],
   "source": [
    "df_brut.loc[df_brut['price'] <= 0].head()"
   ]
  },
  {
   "cell_type": "code",
   "execution_count": 86,
   "metadata": {
    "colab": {
     "autoexec": {
      "startup": false,
      "wait_interval": 0
     },
     "base_uri": "https://localhost:8080/",
     "height": 307
    },
    "colab_type": "code",
    "executionInfo": {
     "elapsed": 481,
     "status": "ok",
     "timestamp": 1531388688562,
     "user": {
      "displayName": "Charles",
      "photoUrl": "https://lh3.googleusercontent.com/a/default-user=s128",
      "userId": "110238762482034332813"
     },
     "user_tz": -120
    },
    "id": "1HNAwVb4IBdG",
    "outputId": "7408b567-ff83-4cb8-c03c-964e5a1cc6fd"
   },
   "outputs": [
    {
     "data": {
      "text/html": [
       "<div>\n",
       "<style scoped>\n",
       "    .dataframe tbody tr th:only-of-type {\n",
       "        vertical-align: middle;\n",
       "    }\n",
       "\n",
       "    .dataframe tbody tr th {\n",
       "        vertical-align: top;\n",
       "    }\n",
       "\n",
       "    .dataframe thead th {\n",
       "        text-align: right;\n",
       "    }\n",
       "</style>\n",
       "<table border=\"1\" class=\"dataframe\">\n",
       "  <thead>\n",
       "    <tr style=\"text-align: right;\">\n",
       "      <th></th>\n",
       "      <th>birth</th>\n",
       "      <th>price</th>\n",
       "      <th>categ</th>\n",
       "    </tr>\n",
       "  </thead>\n",
       "  <tbody>\n",
       "    <tr>\n",
       "      <th>count</th>\n",
       "      <td>200.0</td>\n",
       "      <td>200.0</td>\n",
       "      <td>200.0</td>\n",
       "    </tr>\n",
       "    <tr>\n",
       "      <th>mean</th>\n",
       "      <td>2001.0</td>\n",
       "      <td>-1.0</td>\n",
       "      <td>0.0</td>\n",
       "    </tr>\n",
       "    <tr>\n",
       "      <th>std</th>\n",
       "      <td>0.0</td>\n",
       "      <td>0.0</td>\n",
       "      <td>0.0</td>\n",
       "    </tr>\n",
       "    <tr>\n",
       "      <th>min</th>\n",
       "      <td>2001.0</td>\n",
       "      <td>-1.0</td>\n",
       "      <td>0.0</td>\n",
       "    </tr>\n",
       "    <tr>\n",
       "      <th>25%</th>\n",
       "      <td>2001.0</td>\n",
       "      <td>-1.0</td>\n",
       "      <td>0.0</td>\n",
       "    </tr>\n",
       "    <tr>\n",
       "      <th>50%</th>\n",
       "      <td>2001.0</td>\n",
       "      <td>-1.0</td>\n",
       "      <td>0.0</td>\n",
       "    </tr>\n",
       "    <tr>\n",
       "      <th>75%</th>\n",
       "      <td>2001.0</td>\n",
       "      <td>-1.0</td>\n",
       "      <td>0.0</td>\n",
       "    </tr>\n",
       "    <tr>\n",
       "      <th>max</th>\n",
       "      <td>2001.0</td>\n",
       "      <td>-1.0</td>\n",
       "      <td>0.0</td>\n",
       "    </tr>\n",
       "  </tbody>\n",
       "</table>\n",
       "</div>"
      ],
      "text/plain": [
       "        birth  price  categ\n",
       "count   200.0  200.0  200.0\n",
       "mean   2001.0   -1.0    0.0\n",
       "std       0.0    0.0    0.0\n",
       "min    2001.0   -1.0    0.0\n",
       "25%    2001.0   -1.0    0.0\n",
       "50%    2001.0   -1.0    0.0\n",
       "75%    2001.0   -1.0    0.0\n",
       "max    2001.0   -1.0    0.0"
      ]
     },
     "execution_count": 86,
     "metadata": {},
     "output_type": "execute_result"
    }
   ],
   "source": [
    "#Je pense que ct_1 et ct_0 sont des clients tests, je vérifie leur achats\n",
    "df_brut.loc[df_brut['price'] <= 0].describe()"
   ]
  },
  {
   "cell_type": "code",
   "execution_count": 87,
   "metadata": {
    "colab": {
     "autoexec": {
      "startup": false,
      "wait_interval": 0
     }
    },
    "colab_type": "code",
    "id": "LhVBi3NoIBdI"
   },
   "outputs": [],
   "source": [
    "# Aucun achat a un prix different de -1.0, c'est donc un test, je les retire\n",
    "df_brut = df_brut[df_brut['client_id'] != ('ct_0')]\n",
    "df_brut = df_brut[df_brut['client_id'] != ('ct_1')]"
   ]
  },
  {
   "cell_type": "code",
   "execution_count": 88,
   "metadata": {
    "colab": {
     "autoexec": {
      "startup": false,
      "wait_interval": 0
     }
    },
    "colab_type": "code",
    "id": "qMCj0ldqIBdJ"
   },
   "outputs": [
    {
     "data": {
      "text/plain": [
       "(124, 10)"
      ]
     },
     "execution_count": 88,
     "metadata": {},
     "output_type": "execute_result"
    }
   ],
   "source": [
    "#création d'une fonction qui va comparer le premier caractère de l'id_prod avec la catégorie\n",
    "def compare (row, col1, col2):\n",
    "    id_prod = row[col1]\n",
    "    categ = str(row[col2])\n",
    "    categStr = categ[0]  #1er chiffre de la categ\n",
    "    try :\n",
    "        if (id_prod[0] == str(categStr)):\n",
    "            return True\n",
    "        else:\n",
    "            return False\n",
    "    except:\n",
    "        return np.nan\n",
    "    \n",
    "# On appelle la fonction et je crée une nouvelle colonne\n",
    "df_brut['comparaison'] = df_brut.apply(compare, axis=1, col1='id_prod', col2='categ')\n",
    "\n",
    "# Analyse des produits où ça ne coincide pas\n",
    "difference = df_brut[(df_brut.comparaison != True)]\n",
    "difference.shape"
   ]
  },
  {
   "cell_type": "markdown",
   "metadata": {
    "colab_type": "text",
    "id": "NuVEAXq8IBdP"
   },
   "source": [
    "Il y a 21 lignes de clients enregistrés mais qui n'ont pas acheté, et 103 produits vendus mais dont la catégorie n'est pas renseignée"
   ]
  },
  {
   "cell_type": "code",
   "execution_count": 89,
   "metadata": {
    "colab": {
     "autoexec": {
      "startup": false,
      "wait_interval": 0
     },
     "base_uri": "https://localhost:8080/",
     "height": 53
    },
    "colab_type": "code",
    "executionInfo": {
     "elapsed": 506,
     "status": "ok",
     "timestamp": 1531388700578,
     "user": {
      "displayName": "Charles",
      "photoUrl": "https://lh3.googleusercontent.com/a/default-user=s128",
      "userId": "110238762482034332813"
     },
     "user_tz": -120
    },
    "id": "kZsoOfT6IBdQ",
    "outputId": "77a192d9-1751-420c-c039-66c84770d0d1"
   },
   "outputs": [
    {
     "name": "stdout",
     "output_type": "stream",
     "text": [
      "Client repartis sans acheter :  0.24356297842727906 %\n"
     ]
    }
   ],
   "source": [
    "#Je crée un df des client qui n'ont pas acheté pour calculer leur pourcentage\n",
    "df_sans_achat = df_brut.loc[df_brut['date'].isnull()]\n",
    "df_sans_achat.dropna(subset=['client_id', 'sex', 'birth'])\n",
    "print(\"Client repartis sans acheter : \",((df_sans_achat['client_id'].count()*100)/ (df_brut[\"client_id\"].unique().size)),\"%\")"
   ]
  },
  {
   "cell_type": "markdown",
   "metadata": {},
   "source": [
    "C'est très minime, je les supprimerai quelques lignes plus loin"
   ]
  },
  {
   "cell_type": "code",
   "execution_count": 90,
   "metadata": {
    "colab": {
     "autoexec": {
      "startup": false,
      "wait_interval": 0
     },
     "base_uri": "https://localhost:8080/",
     "height": 2993
    },
    "colab_type": "code",
    "executionInfo": {
     "elapsed": 459,
     "status": "ok",
     "timestamp": 1531388701529,
     "user": {
      "displayName": "Charles",
      "photoUrl": "https://lh3.googleusercontent.com/a/default-user=s128",
      "userId": "110238762482034332813"
     },
     "user_tz": -120
    },
    "id": "y1VlhOm6IBdT",
    "outputId": "2ac4ee70-e17c-467f-ca64-bdb7aaf96214"
   },
   "outputs": [
    {
     "data": {
      "text/html": [
       "<div>\n",
       "<style scoped>\n",
       "    .dataframe tbody tr th:only-of-type {\n",
       "        vertical-align: middle;\n",
       "    }\n",
       "\n",
       "    .dataframe tbody tr th {\n",
       "        vertical-align: top;\n",
       "    }\n",
       "\n",
       "    .dataframe thead th {\n",
       "        text-align: right;\n",
       "    }\n",
       "</style>\n",
       "<table border=\"1\" class=\"dataframe\">\n",
       "  <thead>\n",
       "    <tr style=\"text-align: right;\">\n",
       "      <th></th>\n",
       "      <th>client_id</th>\n",
       "      <th>sex</th>\n",
       "      <th>birth</th>\n",
       "      <th>id_prod</th>\n",
       "      <th>date</th>\n",
       "      <th>session_id</th>\n",
       "      <th>price</th>\n",
       "      <th>categ</th>\n",
       "      <th>_merge</th>\n",
       "      <th>comparaison</th>\n",
       "    </tr>\n",
       "  </thead>\n",
       "  <tbody>\n",
       "    <tr>\n",
       "      <th>266960</th>\n",
       "      <td>c_4505</td>\n",
       "      <td>m</td>\n",
       "      <td>1976.0</td>\n",
       "      <td>0_2245</td>\n",
       "      <td>2022-01-09 09:23:31.000720</td>\n",
       "      <td>s_147220</td>\n",
       "      <td>NaN</td>\n",
       "      <td>NaN</td>\n",
       "      <td>left_only</td>\n",
       "      <td>False</td>\n",
       "    </tr>\n",
       "    <tr>\n",
       "      <th>266961</th>\n",
       "      <td>c_3468</td>\n",
       "      <td>f</td>\n",
       "      <td>1981.0</td>\n",
       "      <td>0_2245</td>\n",
       "      <td>2021-09-11 10:52:05.205583</td>\n",
       "      <td>s_88251</td>\n",
       "      <td>NaN</td>\n",
       "      <td>NaN</td>\n",
       "      <td>left_only</td>\n",
       "      <td>False</td>\n",
       "    </tr>\n",
       "    <tr>\n",
       "      <th>266962</th>\n",
       "      <td>c_1403</td>\n",
       "      <td>f</td>\n",
       "      <td>1978.0</td>\n",
       "      <td>0_2245</td>\n",
       "      <td>2022-02-15 14:26:50.187952</td>\n",
       "      <td>s_165575</td>\n",
       "      <td>NaN</td>\n",
       "      <td>NaN</td>\n",
       "      <td>left_only</td>\n",
       "      <td>False</td>\n",
       "    </tr>\n",
       "    <tr>\n",
       "      <th>266963</th>\n",
       "      <td>c_3065</td>\n",
       "      <td>f</td>\n",
       "      <td>1977.0</td>\n",
       "      <td>0_2245</td>\n",
       "      <td>2022-01-26 13:34:33.440366</td>\n",
       "      <td>s_155484</td>\n",
       "      <td>NaN</td>\n",
       "      <td>NaN</td>\n",
       "      <td>left_only</td>\n",
       "      <td>False</td>\n",
       "    </tr>\n",
       "    <tr>\n",
       "      <th>266964</th>\n",
       "      <td>c_7102</td>\n",
       "      <td>m</td>\n",
       "      <td>1983.0</td>\n",
       "      <td>0_2245</td>\n",
       "      <td>2021-04-25 19:58:42.716401</td>\n",
       "      <td>s_25704</td>\n",
       "      <td>NaN</td>\n",
       "      <td>NaN</td>\n",
       "      <td>left_only</td>\n",
       "      <td>False</td>\n",
       "    </tr>\n",
       "    <tr>\n",
       "      <th>266965</th>\n",
       "      <td>c_1595</td>\n",
       "      <td>f</td>\n",
       "      <td>1973.0</td>\n",
       "      <td>0_2245</td>\n",
       "      <td>2021-04-27 18:58:47.703374</td>\n",
       "      <td>s_26624</td>\n",
       "      <td>NaN</td>\n",
       "      <td>NaN</td>\n",
       "      <td>left_only</td>\n",
       "      <td>False</td>\n",
       "    </tr>\n",
       "    <tr>\n",
       "      <th>266966</th>\n",
       "      <td>c_7790</td>\n",
       "      <td>f</td>\n",
       "      <td>1983.0</td>\n",
       "      <td>0_2245</td>\n",
       "      <td>2021-03-30 23:29:02.347672</td>\n",
       "      <td>s_13738</td>\n",
       "      <td>NaN</td>\n",
       "      <td>NaN</td>\n",
       "      <td>left_only</td>\n",
       "      <td>False</td>\n",
       "    </tr>\n",
       "    <tr>\n",
       "      <th>266967</th>\n",
       "      <td>c_5056</td>\n",
       "      <td>f</td>\n",
       "      <td>1991.0</td>\n",
       "      <td>0_2245</td>\n",
       "      <td>2021-09-03 04:31:18.063440</td>\n",
       "      <td>s_84343</td>\n",
       "      <td>NaN</td>\n",
       "      <td>NaN</td>\n",
       "      <td>left_only</td>\n",
       "      <td>False</td>\n",
       "    </tr>\n",
       "    <tr>\n",
       "      <th>266968</th>\n",
       "      <td>c_3496</td>\n",
       "      <td>f</td>\n",
       "      <td>1957.0</td>\n",
       "      <td>0_2245</td>\n",
       "      <td>2021-04-18 08:28:11.501497</td>\n",
       "      <td>s_22209</td>\n",
       "      <td>NaN</td>\n",
       "      <td>NaN</td>\n",
       "      <td>left_only</td>\n",
       "      <td>False</td>\n",
       "    </tr>\n",
       "    <tr>\n",
       "      <th>266969</th>\n",
       "      <td>c_7287</td>\n",
       "      <td>f</td>\n",
       "      <td>1978.0</td>\n",
       "      <td>0_2245</td>\n",
       "      <td>2022-02-20 03:50:42.646180</td>\n",
       "      <td>s_167926</td>\n",
       "      <td>NaN</td>\n",
       "      <td>NaN</td>\n",
       "      <td>left_only</td>\n",
       "      <td>False</td>\n",
       "    </tr>\n",
       "    <tr>\n",
       "      <th>266970</th>\n",
       "      <td>c_5953</td>\n",
       "      <td>m</td>\n",
       "      <td>1986.0</td>\n",
       "      <td>0_2245</td>\n",
       "      <td>2022-02-24 04:18:45.054650</td>\n",
       "      <td>s_169978</td>\n",
       "      <td>NaN</td>\n",
       "      <td>NaN</td>\n",
       "      <td>left_only</td>\n",
       "      <td>False</td>\n",
       "    </tr>\n",
       "    <tr>\n",
       "      <th>266971</th>\n",
       "      <td>c_1189</td>\n",
       "      <td>m</td>\n",
       "      <td>1985.0</td>\n",
       "      <td>0_2245</td>\n",
       "      <td>2021-03-07 20:00:01.525768</td>\n",
       "      <td>s_3159</td>\n",
       "      <td>NaN</td>\n",
       "      <td>NaN</td>\n",
       "      <td>left_only</td>\n",
       "      <td>False</td>\n",
       "    </tr>\n",
       "    <tr>\n",
       "      <th>266972</th>\n",
       "      <td>c_8595</td>\n",
       "      <td>f</td>\n",
       "      <td>1980.0</td>\n",
       "      <td>0_2245</td>\n",
       "      <td>2022-01-04 19:02:47.712837</td>\n",
       "      <td>s_144966</td>\n",
       "      <td>NaN</td>\n",
       "      <td>NaN</td>\n",
       "      <td>left_only</td>\n",
       "      <td>False</td>\n",
       "    </tr>\n",
       "    <tr>\n",
       "      <th>266973</th>\n",
       "      <td>c_966</td>\n",
       "      <td>f</td>\n",
       "      <td>1981.0</td>\n",
       "      <td>0_2245</td>\n",
       "      <td>2021-03-28 10:46:04.804784</td>\n",
       "      <td>s_12567</td>\n",
       "      <td>NaN</td>\n",
       "      <td>NaN</td>\n",
       "      <td>left_only</td>\n",
       "      <td>False</td>\n",
       "    </tr>\n",
       "    <tr>\n",
       "      <th>266974</th>\n",
       "      <td>c_1876</td>\n",
       "      <td>m</td>\n",
       "      <td>1983.0</td>\n",
       "      <td>0_2245</td>\n",
       "      <td>2021-04-10 02:26:04.604882</td>\n",
       "      <td>s_18428</td>\n",
       "      <td>NaN</td>\n",
       "      <td>NaN</td>\n",
       "      <td>left_only</td>\n",
       "      <td>False</td>\n",
       "    </tr>\n",
       "    <tr>\n",
       "      <th>266975</th>\n",
       "      <td>c_2688</td>\n",
       "      <td>f</td>\n",
       "      <td>1968.0</td>\n",
       "      <td>0_2245</td>\n",
       "      <td>2021-03-28 21:39:14.337424</td>\n",
       "      <td>s_12792</td>\n",
       "      <td>NaN</td>\n",
       "      <td>NaN</td>\n",
       "      <td>left_only</td>\n",
       "      <td>False</td>\n",
       "    </tr>\n",
       "    <tr>\n",
       "      <th>266976</th>\n",
       "      <td>c_4333</td>\n",
       "      <td>m</td>\n",
       "      <td>1956.0</td>\n",
       "      <td>0_2245</td>\n",
       "      <td>2021-11-11 04:36:55.259042</td>\n",
       "      <td>s_117850</td>\n",
       "      <td>NaN</td>\n",
       "      <td>NaN</td>\n",
       "      <td>left_only</td>\n",
       "      <td>False</td>\n",
       "    </tr>\n",
       "    <tr>\n",
       "      <th>266977</th>\n",
       "      <td>c_662</td>\n",
       "      <td>f</td>\n",
       "      <td>1968.0</td>\n",
       "      <td>0_2245</td>\n",
       "      <td>2022-02-20 02:12:36.364179</td>\n",
       "      <td>s_167890</td>\n",
       "      <td>NaN</td>\n",
       "      <td>NaN</td>\n",
       "      <td>left_only</td>\n",
       "      <td>False</td>\n",
       "    </tr>\n",
       "    <tr>\n",
       "      <th>266978</th>\n",
       "      <td>c_2006</td>\n",
       "      <td>f</td>\n",
       "      <td>1987.0</td>\n",
       "      <td>0_2245</td>\n",
       "      <td>2021-08-15 04:51:14.995798</td>\n",
       "      <td>s_75903</td>\n",
       "      <td>NaN</td>\n",
       "      <td>NaN</td>\n",
       "      <td>left_only</td>\n",
       "      <td>False</td>\n",
       "    </tr>\n",
       "    <tr>\n",
       "      <th>266979</th>\n",
       "      <td>c_6714</td>\n",
       "      <td>f</td>\n",
       "      <td>1968.0</td>\n",
       "      <td>0_2245</td>\n",
       "      <td>2021-06-05 17:04:43.982913</td>\n",
       "      <td>s_44481</td>\n",
       "      <td>NaN</td>\n",
       "      <td>NaN</td>\n",
       "      <td>left_only</td>\n",
       "      <td>False</td>\n",
       "    </tr>\n",
       "    <tr>\n",
       "      <th>266980</th>\n",
       "      <td>c_6714</td>\n",
       "      <td>f</td>\n",
       "      <td>1968.0</td>\n",
       "      <td>0_2245</td>\n",
       "      <td>2021-04-22 04:57:20.090378</td>\n",
       "      <td>s_23987</td>\n",
       "      <td>NaN</td>\n",
       "      <td>NaN</td>\n",
       "      <td>left_only</td>\n",
       "      <td>False</td>\n",
       "    </tr>\n",
       "    <tr>\n",
       "      <th>266981</th>\n",
       "      <td>c_1450</td>\n",
       "      <td>f</td>\n",
       "      <td>1959.0</td>\n",
       "      <td>0_2245</td>\n",
       "      <td>2021-05-20 07:44:21.415061</td>\n",
       "      <td>s_36985</td>\n",
       "      <td>NaN</td>\n",
       "      <td>NaN</td>\n",
       "      <td>left_only</td>\n",
       "      <td>False</td>\n",
       "    </tr>\n",
       "    <tr>\n",
       "      <th>266982</th>\n",
       "      <td>c_7753</td>\n",
       "      <td>f</td>\n",
       "      <td>1973.0</td>\n",
       "      <td>0_2245</td>\n",
       "      <td>2021-04-09 09:12:02.773166</td>\n",
       "      <td>s_18096</td>\n",
       "      <td>NaN</td>\n",
       "      <td>NaN</td>\n",
       "      <td>left_only</td>\n",
       "      <td>False</td>\n",
       "    </tr>\n",
       "    <tr>\n",
       "      <th>266983</th>\n",
       "      <td>c_4935</td>\n",
       "      <td>f</td>\n",
       "      <td>1982.0</td>\n",
       "      <td>0_2245</td>\n",
       "      <td>2021-09-19 03:08:45.918021</td>\n",
       "      <td>s_92049</td>\n",
       "      <td>NaN</td>\n",
       "      <td>NaN</td>\n",
       "      <td>left_only</td>\n",
       "      <td>False</td>\n",
       "    </tr>\n",
       "    <tr>\n",
       "      <th>266984</th>\n",
       "      <td>c_6752</td>\n",
       "      <td>m</td>\n",
       "      <td>1987.0</td>\n",
       "      <td>0_2245</td>\n",
       "      <td>2021-08-22 08:51:27.564509</td>\n",
       "      <td>s_79102</td>\n",
       "      <td>NaN</td>\n",
       "      <td>NaN</td>\n",
       "      <td>left_only</td>\n",
       "      <td>False</td>\n",
       "    </tr>\n",
       "    <tr>\n",
       "      <th>266985</th>\n",
       "      <td>c_7954</td>\n",
       "      <td>m</td>\n",
       "      <td>1973.0</td>\n",
       "      <td>0_2245</td>\n",
       "      <td>2021-06-16 05:53:01.627491</td>\n",
       "      <td>s_49323</td>\n",
       "      <td>NaN</td>\n",
       "      <td>NaN</td>\n",
       "      <td>left_only</td>\n",
       "      <td>False</td>\n",
       "    </tr>\n",
       "    <tr>\n",
       "      <th>266986</th>\n",
       "      <td>c_580</td>\n",
       "      <td>m</td>\n",
       "      <td>1988.0</td>\n",
       "      <td>0_2245</td>\n",
       "      <td>2021-03-01 00:09:29.301897</td>\n",
       "      <td>s_3</td>\n",
       "      <td>NaN</td>\n",
       "      <td>NaN</td>\n",
       "      <td>left_only</td>\n",
       "      <td>False</td>\n",
       "    </tr>\n",
       "    <tr>\n",
       "      <th>266987</th>\n",
       "      <td>c_326</td>\n",
       "      <td>f</td>\n",
       "      <td>1986.0</td>\n",
       "      <td>0_2245</td>\n",
       "      <td>2021-11-02 17:51:41.043592</td>\n",
       "      <td>s_113801</td>\n",
       "      <td>NaN</td>\n",
       "      <td>NaN</td>\n",
       "      <td>left_only</td>\n",
       "      <td>False</td>\n",
       "    </tr>\n",
       "    <tr>\n",
       "      <th>266988</th>\n",
       "      <td>c_8286</td>\n",
       "      <td>f</td>\n",
       "      <td>1980.0</td>\n",
       "      <td>0_2245</td>\n",
       "      <td>2021-10-26 03:31:42.296144</td>\n",
       "      <td>s_110231</td>\n",
       "      <td>NaN</td>\n",
       "      <td>NaN</td>\n",
       "      <td>left_only</td>\n",
       "      <td>False</td>\n",
       "    </tr>\n",
       "    <tr>\n",
       "      <th>266989</th>\n",
       "      <td>c_1551</td>\n",
       "      <td>m</td>\n",
       "      <td>1972.0</td>\n",
       "      <td>0_2245</td>\n",
       "      <td>2021-06-17 20:34:06.230094</td>\n",
       "      <td>s_50022</td>\n",
       "      <td>NaN</td>\n",
       "      <td>NaN</td>\n",
       "      <td>left_only</td>\n",
       "      <td>False</td>\n",
       "    </tr>\n",
       "    <tr>\n",
       "      <th>...</th>\n",
       "      <td>...</td>\n",
       "      <td>...</td>\n",
       "      <td>...</td>\n",
       "      <td>...</td>\n",
       "      <td>...</td>\n",
       "      <td>...</td>\n",
       "      <td>...</td>\n",
       "      <td>...</td>\n",
       "      <td>...</td>\n",
       "      <td>...</td>\n",
       "    </tr>\n",
       "    <tr>\n",
       "      <th>267033</th>\n",
       "      <td>c_8096</td>\n",
       "      <td>f</td>\n",
       "      <td>1989.0</td>\n",
       "      <td>0_2245</td>\n",
       "      <td>2021-06-09 10:24:58.224573</td>\n",
       "      <td>s_46210</td>\n",
       "      <td>NaN</td>\n",
       "      <td>NaN</td>\n",
       "      <td>left_only</td>\n",
       "      <td>False</td>\n",
       "    </tr>\n",
       "    <tr>\n",
       "      <th>267034</th>\n",
       "      <td>c_1514</td>\n",
       "      <td>f</td>\n",
       "      <td>1982.0</td>\n",
       "      <td>0_2245</td>\n",
       "      <td>2021-10-04 13:36:19.612226</td>\n",
       "      <td>s_99885</td>\n",
       "      <td>NaN</td>\n",
       "      <td>NaN</td>\n",
       "      <td>left_only</td>\n",
       "      <td>False</td>\n",
       "    </tr>\n",
       "    <tr>\n",
       "      <th>267035</th>\n",
       "      <td>c_553</td>\n",
       "      <td>f</td>\n",
       "      <td>1949.0</td>\n",
       "      <td>0_2245</td>\n",
       "      <td>2021-12-23 05:26:36.260066</td>\n",
       "      <td>s_138599</td>\n",
       "      <td>NaN</td>\n",
       "      <td>NaN</td>\n",
       "      <td>left_only</td>\n",
       "      <td>False</td>\n",
       "    </tr>\n",
       "    <tr>\n",
       "      <th>267036</th>\n",
       "      <td>c_6189</td>\n",
       "      <td>f</td>\n",
       "      <td>1984.0</td>\n",
       "      <td>0_2245</td>\n",
       "      <td>2021-12-03 14:14:40.444177</td>\n",
       "      <td>s_128815</td>\n",
       "      <td>NaN</td>\n",
       "      <td>NaN</td>\n",
       "      <td>left_only</td>\n",
       "      <td>False</td>\n",
       "    </tr>\n",
       "    <tr>\n",
       "      <th>267037</th>\n",
       "      <td>c_1098</td>\n",
       "      <td>m</td>\n",
       "      <td>1986.0</td>\n",
       "      <td>0_2245</td>\n",
       "      <td>2022-02-11 09:05:43.952857</td>\n",
       "      <td>s_163405</td>\n",
       "      <td>NaN</td>\n",
       "      <td>NaN</td>\n",
       "      <td>left_only</td>\n",
       "      <td>False</td>\n",
       "    </tr>\n",
       "    <tr>\n",
       "      <th>267038</th>\n",
       "      <td>c_6128</td>\n",
       "      <td>m</td>\n",
       "      <td>1986.0</td>\n",
       "      <td>0_2245</td>\n",
       "      <td>2021-10-19 09:32:03.667461</td>\n",
       "      <td>s_107022</td>\n",
       "      <td>NaN</td>\n",
       "      <td>NaN</td>\n",
       "      <td>left_only</td>\n",
       "      <td>False</td>\n",
       "    </tr>\n",
       "    <tr>\n",
       "      <th>267039</th>\n",
       "      <td>c_2288</td>\n",
       "      <td>m</td>\n",
       "      <td>1979.0</td>\n",
       "      <td>0_2245</td>\n",
       "      <td>2021-11-27 04:57:50.401531</td>\n",
       "      <td>s_125685</td>\n",
       "      <td>NaN</td>\n",
       "      <td>NaN</td>\n",
       "      <td>left_only</td>\n",
       "      <td>False</td>\n",
       "    </tr>\n",
       "    <tr>\n",
       "      <th>267040</th>\n",
       "      <td>c_6255</td>\n",
       "      <td>m</td>\n",
       "      <td>1973.0</td>\n",
       "      <td>0_2245</td>\n",
       "      <td>2021-05-31 03:02:59.173771</td>\n",
       "      <td>s_41902</td>\n",
       "      <td>NaN</td>\n",
       "      <td>NaN</td>\n",
       "      <td>left_only</td>\n",
       "      <td>False</td>\n",
       "    </tr>\n",
       "    <tr>\n",
       "      <th>267041</th>\n",
       "      <td>c_4113</td>\n",
       "      <td>m</td>\n",
       "      <td>2002.0</td>\n",
       "      <td>0_2245</td>\n",
       "      <td>2021-11-19 03:46:40.122185</td>\n",
       "      <td>s_121796</td>\n",
       "      <td>NaN</td>\n",
       "      <td>NaN</td>\n",
       "      <td>left_only</td>\n",
       "      <td>False</td>\n",
       "    </tr>\n",
       "    <tr>\n",
       "      <th>267042</th>\n",
       "      <td>c_1060</td>\n",
       "      <td>f</td>\n",
       "      <td>1973.0</td>\n",
       "      <td>0_2245</td>\n",
       "      <td>2021-09-06 14:03:40.171938</td>\n",
       "      <td>s_85877</td>\n",
       "      <td>NaN</td>\n",
       "      <td>NaN</td>\n",
       "      <td>left_only</td>\n",
       "      <td>False</td>\n",
       "    </tr>\n",
       "    <tr>\n",
       "      <th>267043</th>\n",
       "      <td>c_1811</td>\n",
       "      <td>f</td>\n",
       "      <td>1991.0</td>\n",
       "      <td>0_2245</td>\n",
       "      <td>2021-05-22 09:28:34.806734</td>\n",
       "      <td>s_37909</td>\n",
       "      <td>NaN</td>\n",
       "      <td>NaN</td>\n",
       "      <td>left_only</td>\n",
       "      <td>False</td>\n",
       "    </tr>\n",
       "    <tr>\n",
       "      <th>267044</th>\n",
       "      <td>c_7808</td>\n",
       "      <td>m</td>\n",
       "      <td>1977.0</td>\n",
       "      <td>0_2245</td>\n",
       "      <td>2021-04-17 16:43:16.543156</td>\n",
       "      <td>s_21906</td>\n",
       "      <td>NaN</td>\n",
       "      <td>NaN</td>\n",
       "      <td>left_only</td>\n",
       "      <td>False</td>\n",
       "    </tr>\n",
       "    <tr>\n",
       "      <th>267045</th>\n",
       "      <td>c_6356</td>\n",
       "      <td>f</td>\n",
       "      <td>1949.0</td>\n",
       "      <td>0_2245</td>\n",
       "      <td>2021-06-21 09:59:00.829098</td>\n",
       "      <td>s_51689</td>\n",
       "      <td>NaN</td>\n",
       "      <td>NaN</td>\n",
       "      <td>left_only</td>\n",
       "      <td>False</td>\n",
       "    </tr>\n",
       "    <tr>\n",
       "      <th>267046</th>\n",
       "      <td>c_2919</td>\n",
       "      <td>m</td>\n",
       "      <td>1969.0</td>\n",
       "      <td>0_2245</td>\n",
       "      <td>2021-07-15 15:50:23.309714</td>\n",
       "      <td>s_62680</td>\n",
       "      <td>NaN</td>\n",
       "      <td>NaN</td>\n",
       "      <td>left_only</td>\n",
       "      <td>False</td>\n",
       "    </tr>\n",
       "    <tr>\n",
       "      <th>267047</th>\n",
       "      <td>c_8060</td>\n",
       "      <td>f</td>\n",
       "      <td>1979.0</td>\n",
       "      <td>0_2245</td>\n",
       "      <td>2021-03-02 15:55:49.728644</td>\n",
       "      <td>s_783</td>\n",
       "      <td>NaN</td>\n",
       "      <td>NaN</td>\n",
       "      <td>left_only</td>\n",
       "      <td>False</td>\n",
       "    </tr>\n",
       "    <tr>\n",
       "      <th>267048</th>\n",
       "      <td>c_7759</td>\n",
       "      <td>f</td>\n",
       "      <td>1972.0</td>\n",
       "      <td>0_2245</td>\n",
       "      <td>2021-06-24 10:45:23.463998</td>\n",
       "      <td>s_53090</td>\n",
       "      <td>NaN</td>\n",
       "      <td>NaN</td>\n",
       "      <td>left_only</td>\n",
       "      <td>False</td>\n",
       "    </tr>\n",
       "    <tr>\n",
       "      <th>267049</th>\n",
       "      <td>c_8616</td>\n",
       "      <td>m</td>\n",
       "      <td>1984.0</td>\n",
       "      <td>0_2245</td>\n",
       "      <td>2021-09-25 17:07:45.271509</td>\n",
       "      <td>s_95396</td>\n",
       "      <td>NaN</td>\n",
       "      <td>NaN</td>\n",
       "      <td>left_only</td>\n",
       "      <td>False</td>\n",
       "    </tr>\n",
       "    <tr>\n",
       "      <th>267050</th>\n",
       "      <td>c_4964</td>\n",
       "      <td>f</td>\n",
       "      <td>1982.0</td>\n",
       "      <td>0_2245</td>\n",
       "      <td>2022-02-28 18:08:49.875709</td>\n",
       "      <td>s_172304</td>\n",
       "      <td>NaN</td>\n",
       "      <td>NaN</td>\n",
       "      <td>left_only</td>\n",
       "      <td>False</td>\n",
       "    </tr>\n",
       "    <tr>\n",
       "      <th>267051</th>\n",
       "      <td>c_5157</td>\n",
       "      <td>f</td>\n",
       "      <td>1979.0</td>\n",
       "      <td>0_2245</td>\n",
       "      <td>2021-08-14 23:34:15.559623</td>\n",
       "      <td>s_75819</td>\n",
       "      <td>NaN</td>\n",
       "      <td>NaN</td>\n",
       "      <td>left_only</td>\n",
       "      <td>False</td>\n",
       "    </tr>\n",
       "    <tr>\n",
       "      <th>267052</th>\n",
       "      <td>c_6990</td>\n",
       "      <td>f</td>\n",
       "      <td>1986.0</td>\n",
       "      <td>0_2245</td>\n",
       "      <td>2021-09-26 17:52:55.561657</td>\n",
       "      <td>s_95930</td>\n",
       "      <td>NaN</td>\n",
       "      <td>NaN</td>\n",
       "      <td>left_only</td>\n",
       "      <td>False</td>\n",
       "    </tr>\n",
       "    <tr>\n",
       "      <th>267053</th>\n",
       "      <td>c_295</td>\n",
       "      <td>m</td>\n",
       "      <td>1983.0</td>\n",
       "      <td>0_2245</td>\n",
       "      <td>2021-08-06 19:31:09.131484</td>\n",
       "      <td>s_72237</td>\n",
       "      <td>NaN</td>\n",
       "      <td>NaN</td>\n",
       "      <td>left_only</td>\n",
       "      <td>False</td>\n",
       "    </tr>\n",
       "    <tr>\n",
       "      <th>267054</th>\n",
       "      <td>c_3454</td>\n",
       "      <td>m</td>\n",
       "      <td>1969.0</td>\n",
       "      <td>0_2245</td>\n",
       "      <td>2021-04-07 12:40:05.004874</td>\n",
       "      <td>s_17252</td>\n",
       "      <td>NaN</td>\n",
       "      <td>NaN</td>\n",
       "      <td>left_only</td>\n",
       "      <td>False</td>\n",
       "    </tr>\n",
       "    <tr>\n",
       "      <th>267055</th>\n",
       "      <td>c_3454</td>\n",
       "      <td>m</td>\n",
       "      <td>1969.0</td>\n",
       "      <td>0_2245</td>\n",
       "      <td>2021-04-10 08:59:14.100780</td>\n",
       "      <td>s_18560</td>\n",
       "      <td>NaN</td>\n",
       "      <td>NaN</td>\n",
       "      <td>left_only</td>\n",
       "      <td>False</td>\n",
       "    </tr>\n",
       "    <tr>\n",
       "      <th>267056</th>\n",
       "      <td>c_4765</td>\n",
       "      <td>m</td>\n",
       "      <td>1982.0</td>\n",
       "      <td>0_2245</td>\n",
       "      <td>2022-01-15 06:19:44.035000</td>\n",
       "      <td>s_150064</td>\n",
       "      <td>NaN</td>\n",
       "      <td>NaN</td>\n",
       "      <td>left_only</td>\n",
       "      <td>False</td>\n",
       "    </tr>\n",
       "    <tr>\n",
       "      <th>267057</th>\n",
       "      <td>c_4167</td>\n",
       "      <td>f</td>\n",
       "      <td>1979.0</td>\n",
       "      <td>0_2245</td>\n",
       "      <td>2021-04-06 19:59:19.462288</td>\n",
       "      <td>s_16936</td>\n",
       "      <td>NaN</td>\n",
       "      <td>NaN</td>\n",
       "      <td>left_only</td>\n",
       "      <td>False</td>\n",
       "    </tr>\n",
       "    <tr>\n",
       "      <th>267058</th>\n",
       "      <td>c_8138</td>\n",
       "      <td>f</td>\n",
       "      <td>1984.0</td>\n",
       "      <td>0_2245</td>\n",
       "      <td>2021-10-04 21:20:27.540982</td>\n",
       "      <td>s_100047</td>\n",
       "      <td>NaN</td>\n",
       "      <td>NaN</td>\n",
       "      <td>left_only</td>\n",
       "      <td>False</td>\n",
       "    </tr>\n",
       "    <tr>\n",
       "      <th>267059</th>\n",
       "      <td>c_7416</td>\n",
       "      <td>m</td>\n",
       "      <td>1933.0</td>\n",
       "      <td>0_2245</td>\n",
       "      <td>2021-11-12 09:25:22.905886</td>\n",
       "      <td>s_118458</td>\n",
       "      <td>NaN</td>\n",
       "      <td>NaN</td>\n",
       "      <td>left_only</td>\n",
       "      <td>False</td>\n",
       "    </tr>\n",
       "    <tr>\n",
       "      <th>267060</th>\n",
       "      <td>c_4283</td>\n",
       "      <td>f</td>\n",
       "      <td>1976.0</td>\n",
       "      <td>0_2245</td>\n",
       "      <td>2021-09-01 02:46:38.931757</td>\n",
       "      <td>s_83377</td>\n",
       "      <td>NaN</td>\n",
       "      <td>NaN</td>\n",
       "      <td>left_only</td>\n",
       "      <td>False</td>\n",
       "    </tr>\n",
       "    <tr>\n",
       "      <th>267061</th>\n",
       "      <td>c_6236</td>\n",
       "      <td>f</td>\n",
       "      <td>1976.0</td>\n",
       "      <td>0_2245</td>\n",
       "      <td>2022-02-25 00:08:08.736068</td>\n",
       "      <td>s_170426</td>\n",
       "      <td>NaN</td>\n",
       "      <td>NaN</td>\n",
       "      <td>left_only</td>\n",
       "      <td>False</td>\n",
       "    </tr>\n",
       "    <tr>\n",
       "      <th>267062</th>\n",
       "      <td>c_4453</td>\n",
       "      <td>m</td>\n",
       "      <td>1981.0</td>\n",
       "      <td>0_2245</td>\n",
       "      <td>2022-02-16 11:35:20.319501</td>\n",
       "      <td>s_166050</td>\n",
       "      <td>NaN</td>\n",
       "      <td>NaN</td>\n",
       "      <td>left_only</td>\n",
       "      <td>False</td>\n",
       "    </tr>\n",
       "  </tbody>\n",
       "</table>\n",
       "<p>103 rows × 10 columns</p>\n",
       "</div>"
      ],
      "text/plain": [
       "       client_id sex   birth id_prod                        date session_id  \\\n",
       "266960    c_4505   m  1976.0  0_2245  2022-01-09 09:23:31.000720   s_147220   \n",
       "266961    c_3468   f  1981.0  0_2245  2021-09-11 10:52:05.205583    s_88251   \n",
       "266962    c_1403   f  1978.0  0_2245  2022-02-15 14:26:50.187952   s_165575   \n",
       "266963    c_3065   f  1977.0  0_2245  2022-01-26 13:34:33.440366   s_155484   \n",
       "266964    c_7102   m  1983.0  0_2245  2021-04-25 19:58:42.716401    s_25704   \n",
       "266965    c_1595   f  1973.0  0_2245  2021-04-27 18:58:47.703374    s_26624   \n",
       "266966    c_7790   f  1983.0  0_2245  2021-03-30 23:29:02.347672    s_13738   \n",
       "266967    c_5056   f  1991.0  0_2245  2021-09-03 04:31:18.063440    s_84343   \n",
       "266968    c_3496   f  1957.0  0_2245  2021-04-18 08:28:11.501497    s_22209   \n",
       "266969    c_7287   f  1978.0  0_2245  2022-02-20 03:50:42.646180   s_167926   \n",
       "266970    c_5953   m  1986.0  0_2245  2022-02-24 04:18:45.054650   s_169978   \n",
       "266971    c_1189   m  1985.0  0_2245  2021-03-07 20:00:01.525768     s_3159   \n",
       "266972    c_8595   f  1980.0  0_2245  2022-01-04 19:02:47.712837   s_144966   \n",
       "266973     c_966   f  1981.0  0_2245  2021-03-28 10:46:04.804784    s_12567   \n",
       "266974    c_1876   m  1983.0  0_2245  2021-04-10 02:26:04.604882    s_18428   \n",
       "266975    c_2688   f  1968.0  0_2245  2021-03-28 21:39:14.337424    s_12792   \n",
       "266976    c_4333   m  1956.0  0_2245  2021-11-11 04:36:55.259042   s_117850   \n",
       "266977     c_662   f  1968.0  0_2245  2022-02-20 02:12:36.364179   s_167890   \n",
       "266978    c_2006   f  1987.0  0_2245  2021-08-15 04:51:14.995798    s_75903   \n",
       "266979    c_6714   f  1968.0  0_2245  2021-06-05 17:04:43.982913    s_44481   \n",
       "266980    c_6714   f  1968.0  0_2245  2021-04-22 04:57:20.090378    s_23987   \n",
       "266981    c_1450   f  1959.0  0_2245  2021-05-20 07:44:21.415061    s_36985   \n",
       "266982    c_7753   f  1973.0  0_2245  2021-04-09 09:12:02.773166    s_18096   \n",
       "266983    c_4935   f  1982.0  0_2245  2021-09-19 03:08:45.918021    s_92049   \n",
       "266984    c_6752   m  1987.0  0_2245  2021-08-22 08:51:27.564509    s_79102   \n",
       "266985    c_7954   m  1973.0  0_2245  2021-06-16 05:53:01.627491    s_49323   \n",
       "266986     c_580   m  1988.0  0_2245  2021-03-01 00:09:29.301897        s_3   \n",
       "266987     c_326   f  1986.0  0_2245  2021-11-02 17:51:41.043592   s_113801   \n",
       "266988    c_8286   f  1980.0  0_2245  2021-10-26 03:31:42.296144   s_110231   \n",
       "266989    c_1551   m  1972.0  0_2245  2021-06-17 20:34:06.230094    s_50022   \n",
       "...          ...  ..     ...     ...                         ...        ...   \n",
       "267033    c_8096   f  1989.0  0_2245  2021-06-09 10:24:58.224573    s_46210   \n",
       "267034    c_1514   f  1982.0  0_2245  2021-10-04 13:36:19.612226    s_99885   \n",
       "267035     c_553   f  1949.0  0_2245  2021-12-23 05:26:36.260066   s_138599   \n",
       "267036    c_6189   f  1984.0  0_2245  2021-12-03 14:14:40.444177   s_128815   \n",
       "267037    c_1098   m  1986.0  0_2245  2022-02-11 09:05:43.952857   s_163405   \n",
       "267038    c_6128   m  1986.0  0_2245  2021-10-19 09:32:03.667461   s_107022   \n",
       "267039    c_2288   m  1979.0  0_2245  2021-11-27 04:57:50.401531   s_125685   \n",
       "267040    c_6255   m  1973.0  0_2245  2021-05-31 03:02:59.173771    s_41902   \n",
       "267041    c_4113   m  2002.0  0_2245  2021-11-19 03:46:40.122185   s_121796   \n",
       "267042    c_1060   f  1973.0  0_2245  2021-09-06 14:03:40.171938    s_85877   \n",
       "267043    c_1811   f  1991.0  0_2245  2021-05-22 09:28:34.806734    s_37909   \n",
       "267044    c_7808   m  1977.0  0_2245  2021-04-17 16:43:16.543156    s_21906   \n",
       "267045    c_6356   f  1949.0  0_2245  2021-06-21 09:59:00.829098    s_51689   \n",
       "267046    c_2919   m  1969.0  0_2245  2021-07-15 15:50:23.309714    s_62680   \n",
       "267047    c_8060   f  1979.0  0_2245  2021-03-02 15:55:49.728644      s_783   \n",
       "267048    c_7759   f  1972.0  0_2245  2021-06-24 10:45:23.463998    s_53090   \n",
       "267049    c_8616   m  1984.0  0_2245  2021-09-25 17:07:45.271509    s_95396   \n",
       "267050    c_4964   f  1982.0  0_2245  2022-02-28 18:08:49.875709   s_172304   \n",
       "267051    c_5157   f  1979.0  0_2245  2021-08-14 23:34:15.559623    s_75819   \n",
       "267052    c_6990   f  1986.0  0_2245  2021-09-26 17:52:55.561657    s_95930   \n",
       "267053     c_295   m  1983.0  0_2245  2021-08-06 19:31:09.131484    s_72237   \n",
       "267054    c_3454   m  1969.0  0_2245  2021-04-07 12:40:05.004874    s_17252   \n",
       "267055    c_3454   m  1969.0  0_2245  2021-04-10 08:59:14.100780    s_18560   \n",
       "267056    c_4765   m  1982.0  0_2245  2022-01-15 06:19:44.035000   s_150064   \n",
       "267057    c_4167   f  1979.0  0_2245  2021-04-06 19:59:19.462288    s_16936   \n",
       "267058    c_8138   f  1984.0  0_2245  2021-10-04 21:20:27.540982   s_100047   \n",
       "267059    c_7416   m  1933.0  0_2245  2021-11-12 09:25:22.905886   s_118458   \n",
       "267060    c_4283   f  1976.0  0_2245  2021-09-01 02:46:38.931757    s_83377   \n",
       "267061    c_6236   f  1976.0  0_2245  2022-02-25 00:08:08.736068   s_170426   \n",
       "267062    c_4453   m  1981.0  0_2245  2022-02-16 11:35:20.319501   s_166050   \n",
       "\n",
       "        price  categ     _merge comparaison  \n",
       "266960    NaN    NaN  left_only       False  \n",
       "266961    NaN    NaN  left_only       False  \n",
       "266962    NaN    NaN  left_only       False  \n",
       "266963    NaN    NaN  left_only       False  \n",
       "266964    NaN    NaN  left_only       False  \n",
       "266965    NaN    NaN  left_only       False  \n",
       "266966    NaN    NaN  left_only       False  \n",
       "266967    NaN    NaN  left_only       False  \n",
       "266968    NaN    NaN  left_only       False  \n",
       "266969    NaN    NaN  left_only       False  \n",
       "266970    NaN    NaN  left_only       False  \n",
       "266971    NaN    NaN  left_only       False  \n",
       "266972    NaN    NaN  left_only       False  \n",
       "266973    NaN    NaN  left_only       False  \n",
       "266974    NaN    NaN  left_only       False  \n",
       "266975    NaN    NaN  left_only       False  \n",
       "266976    NaN    NaN  left_only       False  \n",
       "266977    NaN    NaN  left_only       False  \n",
       "266978    NaN    NaN  left_only       False  \n",
       "266979    NaN    NaN  left_only       False  \n",
       "266980    NaN    NaN  left_only       False  \n",
       "266981    NaN    NaN  left_only       False  \n",
       "266982    NaN    NaN  left_only       False  \n",
       "266983    NaN    NaN  left_only       False  \n",
       "266984    NaN    NaN  left_only       False  \n",
       "266985    NaN    NaN  left_only       False  \n",
       "266986    NaN    NaN  left_only       False  \n",
       "266987    NaN    NaN  left_only       False  \n",
       "266988    NaN    NaN  left_only       False  \n",
       "266989    NaN    NaN  left_only       False  \n",
       "...       ...    ...        ...         ...  \n",
       "267033    NaN    NaN  left_only       False  \n",
       "267034    NaN    NaN  left_only       False  \n",
       "267035    NaN    NaN  left_only       False  \n",
       "267036    NaN    NaN  left_only       False  \n",
       "267037    NaN    NaN  left_only       False  \n",
       "267038    NaN    NaN  left_only       False  \n",
       "267039    NaN    NaN  left_only       False  \n",
       "267040    NaN    NaN  left_only       False  \n",
       "267041    NaN    NaN  left_only       False  \n",
       "267042    NaN    NaN  left_only       False  \n",
       "267043    NaN    NaN  left_only       False  \n",
       "267044    NaN    NaN  left_only       False  \n",
       "267045    NaN    NaN  left_only       False  \n",
       "267046    NaN    NaN  left_only       False  \n",
       "267047    NaN    NaN  left_only       False  \n",
       "267048    NaN    NaN  left_only       False  \n",
       "267049    NaN    NaN  left_only       False  \n",
       "267050    NaN    NaN  left_only       False  \n",
       "267051    NaN    NaN  left_only       False  \n",
       "267052    NaN    NaN  left_only       False  \n",
       "267053    NaN    NaN  left_only       False  \n",
       "267054    NaN    NaN  left_only       False  \n",
       "267055    NaN    NaN  left_only       False  \n",
       "267056    NaN    NaN  left_only       False  \n",
       "267057    NaN    NaN  left_only       False  \n",
       "267058    NaN    NaN  left_only       False  \n",
       "267059    NaN    NaN  left_only       False  \n",
       "267060    NaN    NaN  left_only       False  \n",
       "267061    NaN    NaN  left_only       False  \n",
       "267062    NaN    NaN  left_only       False  \n",
       "\n",
       "[103 rows x 10 columns]"
      ]
     },
     "execution_count": 90,
     "metadata": {},
     "output_type": "execute_result"
    }
   ],
   "source": [
    "df_brut.loc[df_brut[\"id_prod\"].str.contains('0_2245', na=False)] #na=False pour éviter les NaN"
   ]
  },
  {
   "cell_type": "markdown",
   "metadata": {},
   "source": [
    "Visiblement, pour ce produit, la catégorie est mal renseignée"
   ]
  },
  {
   "cell_type": "code",
   "execution_count": 91,
   "metadata": {
    "colab": {
     "autoexec": {
      "startup": false,
      "wait_interval": 0
     }
    },
    "colab_type": "code",
    "id": "Vq2O-U81IBdV"
   },
   "outputs": [],
   "source": [
    "#création d'une fonction qui remplace la bonne catégorie\n",
    "df_brut.loc[pd.isnull(df_brut.categ), \"categ\"] = df_brut.id_prod.str.split(\"_\").str[0]"
   ]
  },
  {
   "cell_type": "code",
   "execution_count": 92,
   "metadata": {
    "colab": {
     "autoexec": {
      "startup": false,
      "wait_interval": 0
     },
     "base_uri": "https://localhost:8080/",
     "height": 236
    },
    "colab_type": "code",
    "executionInfo": {
     "elapsed": 479,
     "status": "ok",
     "timestamp": 1531388704549,
     "user": {
      "displayName": "Charles",
      "photoUrl": "https://lh3.googleusercontent.com/a/default-user=s128",
      "userId": "110238762482034332813"
     },
     "user_tz": -120
    },
    "id": "G9TKjerrIBdX",
    "outputId": "73b17c54-5b97-4493-d310-e0c2401e9bbd"
   },
   "outputs": [
    {
     "name": "stdout",
     "output_type": "stream",
     "text": [
      "--------------------------------------------\n",
      "0\n",
      "med:\n",
      " 10.32\n",
      "--------------------------------------------\n",
      "1\n",
      "med:\n",
      " 22.99\n",
      "--------------------------------------------\n",
      "2\n",
      "med:\n",
      " 101.99\n"
     ]
    }
   ],
   "source": [
    "# Je veux connaitre le prix median des catégories\n",
    "for cat in df_produits_brut[\"categ\"].unique():\n",
    "    subset = df_produits_brut[df_produits_brut.categ == cat] # Création du sous-échantillon\n",
    "    print(\"-\"*44)\n",
    "    print(cat)\n",
    "    print(\"med:\\n\",subset['price'].median())"
   ]
  },
  {
   "cell_type": "code",
   "execution_count": 93,
   "metadata": {
    "colab": {
     "autoexec": {
      "startup": false,
      "wait_interval": 0
     },
     "base_uri": "https://localhost:8080/",
     "height": 53
    },
    "colab_type": "code",
    "executionInfo": {
     "elapsed": 8047,
     "status": "ok",
     "timestamp": 1531388713421,
     "user": {
      "displayName": "Charles",
      "photoUrl": "https://lh3.googleusercontent.com/a/default-user=s128",
      "userId": "110238762482034332813"
     },
     "user_tz": -120
    },
    "id": "jiQ8eMiTIBdZ",
    "outputId": "9f38d43d-3058-44c3-de07-bf934f357484"
   },
   "outputs": [
    {
     "name": "stdout",
     "output_type": "stream",
     "text": [
      "103 prix changés\n"
     ]
    }
   ],
   "source": [
    "#je crée une fonction qui va remettre le prix median de la catégorie 0 pour l'id_prod 0_2245\n",
    "compteur2 = 0\n",
    "def bonprix (row, col1, col2):\n",
    "    id_prod = row[col1]\n",
    "    prix = row[col2]\n",
    "    global compteur2\n",
    "    if (id_prod == '0_2245'):\n",
    "        compteur2 += 1\n",
    "        return 10.32\n",
    "    else:\n",
    "        return prix\n",
    "\n",
    "# On appelle la fonction\n",
    "df_brut['price'] = df_brut.apply(bonprix, axis=1, col1='id_prod', col2='price')\n",
    "\n",
    "#On affiche le compteur\n",
    "print(compteur2, 'prix changés')\n"
   ]
  },
  {
   "cell_type": "code",
   "execution_count": 94,
   "metadata": {
    "colab": {
     "autoexec": {
      "startup": false,
      "wait_interval": 0
     },
     "base_uri": "https://localhost:8080/",
     "height": 301
    },
    "colab_type": "code",
    "executionInfo": {
     "elapsed": 3523,
     "status": "ok",
     "timestamp": 1531388717590,
     "user": {
      "displayName": "Charles",
      "photoUrl": "https://lh3.googleusercontent.com/a/default-user=s128",
      "userId": "110238762482034332813"
     },
     "user_tz": -120
    },
    "id": "JImgHHc0IBdc",
    "outputId": "10fef5b8-edce-40ad-d3d8-cd420008ee80"
   },
   "outputs": [
    {
     "data": {
      "text/html": [
       "<div>\n",
       "<style scoped>\n",
       "    .dataframe tbody tr th:only-of-type {\n",
       "        vertical-align: middle;\n",
       "    }\n",
       "\n",
       "    .dataframe tbody tr th {\n",
       "        vertical-align: top;\n",
       "    }\n",
       "\n",
       "    .dataframe thead th {\n",
       "        text-align: right;\n",
       "    }\n",
       "</style>\n",
       "<table border=\"1\" class=\"dataframe\">\n",
       "  <thead>\n",
       "    <tr style=\"text-align: right;\">\n",
       "      <th></th>\n",
       "      <th>client_id</th>\n",
       "      <th>sex</th>\n",
       "      <th>birth</th>\n",
       "      <th>id_prod</th>\n",
       "      <th>date</th>\n",
       "      <th>session_id</th>\n",
       "      <th>price</th>\n",
       "      <th>categ</th>\n",
       "      <th>_merge</th>\n",
       "      <th>comparaison</th>\n",
       "      <th>date2</th>\n",
       "      <th>date3</th>\n",
       "      <th>year</th>\n",
       "      <th>month</th>\n",
       "      <th>weekday</th>\n",
       "    </tr>\n",
       "  </thead>\n",
       "  <tbody>\n",
       "    <tr>\n",
       "      <th>0</th>\n",
       "      <td>c_4410</td>\n",
       "      <td>f</td>\n",
       "      <td>1967.0</td>\n",
       "      <td>0_1455</td>\n",
       "      <td>2021-03-22 14:29:25.189266</td>\n",
       "      <td>s_9942</td>\n",
       "      <td>8.99</td>\n",
       "      <td>0</td>\n",
       "      <td>both</td>\n",
       "      <td>True</td>\n",
       "      <td>22-03-2021</td>\n",
       "      <td>2021-03</td>\n",
       "      <td>2021.0</td>\n",
       "      <td>3.0</td>\n",
       "      <td>Monday</td>\n",
       "    </tr>\n",
       "    <tr>\n",
       "      <th>1</th>\n",
       "      <td>c_4389</td>\n",
       "      <td>m</td>\n",
       "      <td>1984.0</td>\n",
       "      <td>0_1455</td>\n",
       "      <td>2021-07-09 11:16:18.579726</td>\n",
       "      <td>s_59967</td>\n",
       "      <td>8.99</td>\n",
       "      <td>0</td>\n",
       "      <td>both</td>\n",
       "      <td>True</td>\n",
       "      <td>09-07-2021</td>\n",
       "      <td>2021-07</td>\n",
       "      <td>2021.0</td>\n",
       "      <td>7.0</td>\n",
       "      <td>Friday</td>\n",
       "    </tr>\n",
       "    <tr>\n",
       "      <th>2</th>\n",
       "      <td>c_5019</td>\n",
       "      <td>f</td>\n",
       "      <td>1977.0</td>\n",
       "      <td>0_1455</td>\n",
       "      <td>2022-01-15 00:01:53.456196</td>\n",
       "      <td>s_149928</td>\n",
       "      <td>8.99</td>\n",
       "      <td>0</td>\n",
       "      <td>both</td>\n",
       "      <td>True</td>\n",
       "      <td>15-01-2022</td>\n",
       "      <td>2022-01</td>\n",
       "      <td>2022.0</td>\n",
       "      <td>1.0</td>\n",
       "      <td>Saturday</td>\n",
       "    </tr>\n",
       "    <tr>\n",
       "      <th>3</th>\n",
       "      <td>c_7049</td>\n",
       "      <td>f</td>\n",
       "      <td>1987.0</td>\n",
       "      <td>0_1455</td>\n",
       "      <td>2021-03-04 14:01:38.698752</td>\n",
       "      <td>s_1637</td>\n",
       "      <td>8.99</td>\n",
       "      <td>0</td>\n",
       "      <td>both</td>\n",
       "      <td>True</td>\n",
       "      <td>04-03-2021</td>\n",
       "      <td>2021-03</td>\n",
       "      <td>2021.0</td>\n",
       "      <td>3.0</td>\n",
       "      <td>Thursday</td>\n",
       "    </tr>\n",
       "    <tr>\n",
       "      <th>4</th>\n",
       "      <td>c_5110</td>\n",
       "      <td>f</td>\n",
       "      <td>1982.0</td>\n",
       "      <td>0_1455</td>\n",
       "      <td>2021-09-05 11:48:41.065009</td>\n",
       "      <td>s_85364</td>\n",
       "      <td>8.99</td>\n",
       "      <td>0</td>\n",
       "      <td>both</td>\n",
       "      <td>True</td>\n",
       "      <td>05-09-2021</td>\n",
       "      <td>2021-09</td>\n",
       "      <td>2021.0</td>\n",
       "      <td>9.0</td>\n",
       "      <td>Sunday</td>\n",
       "    </tr>\n",
       "  </tbody>\n",
       "</table>\n",
       "</div>"
      ],
      "text/plain": [
       "  client_id sex   birth id_prod                       date session_id  price  \\\n",
       "0    c_4410   f  1967.0  0_1455 2021-03-22 14:29:25.189266     s_9942   8.99   \n",
       "1    c_4389   m  1984.0  0_1455 2021-07-09 11:16:18.579726    s_59967   8.99   \n",
       "2    c_5019   f  1977.0  0_1455 2022-01-15 00:01:53.456196   s_149928   8.99   \n",
       "3    c_7049   f  1987.0  0_1455 2021-03-04 14:01:38.698752     s_1637   8.99   \n",
       "4    c_5110   f  1982.0  0_1455 2021-09-05 11:48:41.065009    s_85364   8.99   \n",
       "\n",
       "  categ _merge comparaison       date2    date3    year  month   weekday  \n",
       "0     0   both        True  22-03-2021  2021-03  2021.0    3.0    Monday  \n",
       "1     0   both        True  09-07-2021  2021-07  2021.0    7.0    Friday  \n",
       "2     0   both        True  15-01-2022  2022-01  2022.0    1.0  Saturday  \n",
       "3     0   both        True  04-03-2021  2021-03  2021.0    3.0  Thursday  \n",
       "4     0   both        True  05-09-2021  2021-09  2021.0    9.0    Sunday  "
      ]
     },
     "execution_count": 94,
     "metadata": {},
     "output_type": "execute_result"
    }
   ],
   "source": [
    "#je modifie le format de la date en créant plusieurs colonnes\n",
    "df_brut['date']= pd.to_datetime(df_brut['date'])\n",
    "df_brut['date2']= df_brut['date'].dt.strftime('%d-%m-%Y') \n",
    "df_brut['date3']= df_brut['date'].dt.strftime('%Y-%m') \n",
    "df_brut['year'] = df_brut['date'].dt.year\n",
    "df_brut['month'] = df_brut['date'].dt.month\n",
    "df_brut['weekday'] = df_brut['date'].dt.weekday_name\n",
    "df_brut.head()"
   ]
  },
  {
   "cell_type": "code",
   "execution_count": 95,
   "metadata": {
    "colab": {
     "autoexec": {
      "startup": false,
      "wait_interval": 0
     }
    },
    "colab_type": "code",
    "id": "Hk2LwZxEIBdf"
   },
   "outputs": [],
   "source": [
    "#Comme il n'y a que 21 clients qui n'ont pas achetés, c'est minime, je les supprime\n",
    "df = df_brut.dropna(subset =['date'])"
   ]
  },
  {
   "cell_type": "markdown",
   "metadata": {
    "colab_type": "text",
    "id": "nyk_LneNIBdh"
   },
   "source": [
    "# <B>Mission n°2<B/>\n",
    "Analysez les données"
   ]
  },
  {
   "cell_type": "markdown",
   "metadata": {
    "colab_type": "text",
    "id": "8zgeO8nsIBdi"
   },
   "source": [
    "<B> Qui sont nos clients ? <B/>"
   ]
  },
  {
   "cell_type": "markdown",
   "metadata": {
    "colab_type": "text",
    "id": "Y29P6MA5IBdj"
   },
   "source": [
    "Quelle est la répartition hommes/femmes"
   ]
  },
  {
   "cell_type": "code",
   "execution_count": 96,
   "metadata": {
    "colab": {
     "autoexec": {
      "startup": false,
      "wait_interval": 0
     },
     "base_uri": "https://localhost:8080/",
     "height": 411
    },
    "colab_type": "code",
    "executionInfo": {
     "elapsed": 702,
     "status": "ok",
     "timestamp": 1531388719771,
     "user": {
      "displayName": "Charles",
      "photoUrl": "https://lh3.googleusercontent.com/a/default-user=s128",
      "userId": "110238762482034332813"
     },
     "user_tz": -120
    },
    "id": "bOd4sHT3IBdj",
    "outputId": "286ce727-1534-4197-b4c8-44ebdb80da19"
   },
   "outputs": [
    {
     "name": "stdout",
     "output_type": "stream",
     "text": [
      "nombre de clients total 8621\n",
      "pourcentage de clients Hommes enregistrés 47.92 %\n",
      "pourcentage de clients Femmes enregistrées 52.08 %\n",
      "--------------------------------------------\n"
     ]
    },
    {
     "data": {
      "image/png": "[encoded data removed]",
      "text/plain": [
       "<matplotlib.figure.Figure at 0x1a130c76a0>"
      ]
     },
     "metadata": {},
     "output_type": "display_data"
    }
   ],
   "source": [
    "# Je reprends le df clients sans les ct_O et ct_1\n",
    "\n",
    "df_clients = df_clients_brut[df_clients_brut['client_id'] != ('ct_0')]\n",
    "df_clients = df_clients[df_clients['client_id'] != ('ct_1')]\n",
    "\n",
    "# Je créé deux dataframes avec seulement les hommes ou les femmes\n",
    "df_clients_m = df_clients[df_clients['sex'] == ('m')]\n",
    "df_clients_f = df_clients[df_clients['sex'] == ('f')]\n",
    "\n",
    "# nombre de client total\n",
    "\n",
    "print(\"nombre de clients total\",df_clients[\"client_id\"].unique().size)\n",
    "\n",
    "# J'affiche les clients enregistrés\n",
    "print(\"pourcentage de clients Hommes enregistrés\", \\\n",
    "            round(((df_clients_m.client_id.unique().size)*100/(df_clients[\"client_id\"].unique().size)),2),\"%\")\n",
    "print(\"pourcentage de clients Femmes enregistrées\", \\\n",
    "            round(((df_clients_f.client_id.unique().size)*100/(df_clients[\"client_id\"].unique().size)),2),\"%\")\n",
    "\n",
    "print('--------------------------------------------')\n",
    "\n",
    "fig, ax = plt.subplots()\n",
    "ax.axis(\"equal\")\n",
    "ax.pie([round((df_clients.sex.str.contains('f').sum())*100/(df_clients[\"client_id\"].size),2), round(((df_clients.sex.str.contains('m').sum())*100/(df_clients[\"client_id\"].size)),2)],\n",
    "        labels = [\"Femmes\", \"Hommes\"],\n",
    "        autopct=\"%1.1f pourcents\")\n",
    "plt.title(\"Répartition Hommes / Femmes\")\n",
    "plt.savefig('répartition hommes femmes.png')\n",
    "plt.show()"
   ]
  },
  {
   "cell_type": "markdown",
   "metadata": {
    "colab_type": "text",
    "id": "2JyVrCuyIBdn"
   },
   "source": [
    "Quel l'age des acheteurs ?"
   ]
  },
  {
   "cell_type": "code",
   "execution_count": 97,
   "metadata": {
    "colab": {
     "autoexec": {
      "startup": false,
      "wait_interval": 0
     },
     "base_uri": "https://localhost:8080/",
     "height": 77
    },
    "colab_type": "code",
    "executionInfo": {
     "elapsed": 617,
     "status": "ok",
     "timestamp": 1531388720689,
     "user": {
      "displayName": "Charles",
      "photoUrl": "https://lh3.googleusercontent.com/a/default-user=s128",
      "userId": "110238762482034332813"
     },
     "user_tz": -120
    },
    "id": "XMhWGxRQIBdo",
    "outputId": "d2e4dc25-c41b-481b-b97f-ff0b5edf599b"
   },
   "outputs": [
    {
     "data": {
      "text/html": [
       "<div>\n",
       "<style scoped>\n",
       "    .dataframe tbody tr th:only-of-type {\n",
       "        vertical-align: middle;\n",
       "    }\n",
       "\n",
       "    .dataframe tbody tr th {\n",
       "        vertical-align: top;\n",
       "    }\n",
       "\n",
       "    .dataframe thead th {\n",
       "        text-align: right;\n",
       "    }\n",
       "</style>\n",
       "<table border=\"1\" class=\"dataframe\">\n",
       "  <thead>\n",
       "    <tr style=\"text-align: right;\">\n",
       "      <th></th>\n",
       "      <th>client_id</th>\n",
       "      <th>sex</th>\n",
       "      <th>birth</th>\n",
       "      <th>id_prod</th>\n",
       "      <th>date</th>\n",
       "      <th>session_id</th>\n",
       "      <th>price</th>\n",
       "      <th>categ</th>\n",
       "      <th>_merge</th>\n",
       "      <th>comparaison</th>\n",
       "      <th>date2</th>\n",
       "      <th>date3</th>\n",
       "      <th>year</th>\n",
       "      <th>month</th>\n",
       "      <th>weekday</th>\n",
       "    </tr>\n",
       "  </thead>\n",
       "  <tbody>\n",
       "    <tr>\n",
       "      <th>305259</th>\n",
       "      <td>c_1460</td>\n",
       "      <td>m</td>\n",
       "      <td>1989.0</td>\n",
       "      <td>0_1775</td>\n",
       "      <td>2022-02-28 23:59:58.040472</td>\n",
       "      <td>s_172423</td>\n",
       "      <td>6.99</td>\n",
       "      <td>0</td>\n",
       "      <td>both</td>\n",
       "      <td>True</td>\n",
       "      <td>28-02-2022</td>\n",
       "      <td>2022-02</td>\n",
       "      <td>2022.0</td>\n",
       "      <td>2.0</td>\n",
       "      <td>Monday</td>\n",
       "    </tr>\n",
       "  </tbody>\n",
       "</table>\n",
       "</div>"
      ],
      "text/plain": [
       "       client_id sex   birth id_prod                       date session_id  \\\n",
       "305259    c_1460   m  1989.0  0_1775 2022-02-28 23:59:58.040472   s_172423   \n",
       "\n",
       "        price categ _merge comparaison       date2    date3    year  month  \\\n",
       "305259   6.99     0   both        True  28-02-2022  2022-02  2022.0    2.0   \n",
       "\n",
       "       weekday  \n",
       "305259  Monday  "
      ]
     },
     "execution_count": 97,
     "metadata": {},
     "output_type": "execute_result"
    }
   ],
   "source": [
    "# il faut que je calcule leur age pour rajouter une catégorie dans le dataframe\n",
    "# de quand date le dernier achat ?\n",
    "df.sort_values('date', ascending=False).head(1)"
   ]
  },
  {
   "cell_type": "code",
   "execution_count": 98,
   "metadata": {
    "colab": {
     "autoexec": {
      "startup": false,
      "wait_interval": 0
     },
     "base_uri": "https://localhost:8080/",
     "height": 207
    },
    "colab_type": "code",
    "executionInfo": {
     "elapsed": 548,
     "status": "ok",
     "timestamp": 1531388721622,
     "user": {
      "displayName": "Charles",
      "photoUrl": "https://lh3.googleusercontent.com/a/default-user=s128",
      "userId": "110238762482034332813"
     },
     "user_tz": -120
    },
    "id": "r2F2I_1aIBdq",
    "outputId": "3bfdd155-6225-4b40-f4c3-5e31525307e6"
   },
   "outputs": [
    {
     "name": "stderr",
     "output_type": "stream",
     "text": [
      "/Users/utilisateur/anaconda3/lib/python3.6/site-packages/ipykernel_launcher.py:2: SettingWithCopyWarning: \n",
      "A value is trying to be set on a copy of a slice from a DataFrame.\n",
      "Try using .loc[row_indexer,col_indexer] = value instead\n",
      "\n",
      "See the caveats in the documentation: http://pandas.pydata.org/pandas-docs/stable/indexing.html#indexing-view-versus-copy\n",
      "  \n"
     ]
    },
    {
     "data": {
      "text/html": [
       "<div>\n",
       "<style scoped>\n",
       "    .dataframe tbody tr th:only-of-type {\n",
       "        vertical-align: middle;\n",
       "    }\n",
       "\n",
       "    .dataframe tbody tr th {\n",
       "        vertical-align: top;\n",
       "    }\n",
       "\n",
       "    .dataframe thead th {\n",
       "        text-align: right;\n",
       "    }\n",
       "</style>\n",
       "<table border=\"1\" class=\"dataframe\">\n",
       "  <thead>\n",
       "    <tr style=\"text-align: right;\">\n",
       "      <th></th>\n",
       "      <th>client_id</th>\n",
       "      <th>sex</th>\n",
       "      <th>birth</th>\n",
       "      <th>id_prod</th>\n",
       "      <th>date</th>\n",
       "      <th>session_id</th>\n",
       "      <th>price</th>\n",
       "      <th>categ</th>\n",
       "      <th>_merge</th>\n",
       "      <th>comparaison</th>\n",
       "      <th>date2</th>\n",
       "      <th>date3</th>\n",
       "      <th>year</th>\n",
       "      <th>month</th>\n",
       "      <th>weekday</th>\n",
       "      <th>age</th>\n",
       "    </tr>\n",
       "  </thead>\n",
       "  <tbody>\n",
       "    <tr>\n",
       "      <th>0</th>\n",
       "      <td>c_4410</td>\n",
       "      <td>f</td>\n",
       "      <td>1967.0</td>\n",
       "      <td>0_1455</td>\n",
       "      <td>2021-03-22 14:29:25.189266</td>\n",
       "      <td>s_9942</td>\n",
       "      <td>8.99</td>\n",
       "      <td>0</td>\n",
       "      <td>both</td>\n",
       "      <td>True</td>\n",
       "      <td>22-03-2021</td>\n",
       "      <td>2021-03</td>\n",
       "      <td>2021.0</td>\n",
       "      <td>3.0</td>\n",
       "      <td>Monday</td>\n",
       "      <td>55.0</td>\n",
       "    </tr>\n",
       "    <tr>\n",
       "      <th>1</th>\n",
       "      <td>c_4389</td>\n",
       "      <td>m</td>\n",
       "      <td>1984.0</td>\n",
       "      <td>0_1455</td>\n",
       "      <td>2021-07-09 11:16:18.579726</td>\n",
       "      <td>s_59967</td>\n",
       "      <td>8.99</td>\n",
       "      <td>0</td>\n",
       "      <td>both</td>\n",
       "      <td>True</td>\n",
       "      <td>09-07-2021</td>\n",
       "      <td>2021-07</td>\n",
       "      <td>2021.0</td>\n",
       "      <td>7.0</td>\n",
       "      <td>Friday</td>\n",
       "      <td>38.0</td>\n",
       "    </tr>\n",
       "  </tbody>\n",
       "</table>\n",
       "</div>"
      ],
      "text/plain": [
       "  client_id sex   birth id_prod                       date session_id  price  \\\n",
       "0    c_4410   f  1967.0  0_1455 2021-03-22 14:29:25.189266     s_9942   8.99   \n",
       "1    c_4389   m  1984.0  0_1455 2021-07-09 11:16:18.579726    s_59967   8.99   \n",
       "\n",
       "  categ _merge comparaison       date2    date3    year  month weekday   age  \n",
       "0     0   both        True  22-03-2021  2021-03  2021.0    3.0  Monday  55.0  \n",
       "1     0   both        True  09-07-2021  2021-07  2021.0    7.0  Friday  38.0  "
      ]
     },
     "execution_count": 98,
     "metadata": {},
     "output_type": "execute_result"
    }
   ],
   "source": [
    "# nous sommes donc autour de fin février 2022\n",
    "df['age'] = (2022 - df['birth'])\n",
    "df.head(2)"
   ]
  },
  {
   "cell_type": "code",
   "execution_count": 99,
   "metadata": {
    "colab": {
     "autoexec": {
      "startup": false,
      "wait_interval": 0
     },
     "base_uri": "https://localhost:8080/",
     "height": 408
    },
    "colab_type": "code",
    "executionInfo": {
     "elapsed": 684,
     "status": "ok",
     "timestamp": 1531388722795,
     "user": {
      "displayName": "Charles",
      "photoUrl": "https://lh3.googleusercontent.com/a/default-user=s128",
      "userId": "110238762482034332813"
     },
     "user_tz": -120
    },
    "id": "IXoeJjkwIBdt",
    "outputId": "700065a9-979a-4985-be3e-86a79d5de654"
   },
   "outputs": [
    {
     "data": {
      "image/png": "[encoded data removed]",
      "text/plain": [
       "<matplotlib.figure.Figure at 0x106bd4b38>"
      ]
     },
     "metadata": {},
     "output_type": "display_data"
    },
    {
     "name": "stdout",
     "output_type": "stream",
     "text": [
      "age moyen 44\n",
      "age median 43\n"
     ]
    }
   ],
   "source": [
    "# Je ne veux pas de doublons dans les clients\n",
    "df_age = df.drop_duplicates('client_id')\n",
    "x = [df_age['age']]\n",
    "plt.hist(x, range = (15, 100), bins = 100, color = 'blue',\n",
    "            edgecolor = 'blue', width=1)\n",
    "plt.xlabel('âge')\n",
    "plt.ylabel('nombre d\\' acheteurs')\n",
    "plt.title('âges des acheteurs')\n",
    "plt.grid(True)\n",
    "plt.savefig('age des acheteurs.png')\n",
    "plt.show()\n",
    "print(\"age moyen\", round(df_age.age.mean()))\n",
    "print(\"age median\", round(df_age.age.median()))"
   ]
  },
  {
   "cell_type": "code",
   "execution_count": 100,
   "metadata": {
    "colab": {
     "autoexec": {
      "startup": false,
      "wait_interval": 0
     },
     "base_uri": "https://localhost:8080/",
     "height": 33
    },
    "colab_type": "code",
    "executionInfo": {
     "elapsed": 629,
     "status": "ok",
     "timestamp": 1531388723760,
     "user": {
      "displayName": "Charles",
      "photoUrl": "https://lh3.googleusercontent.com/a/default-user=s128",
      "userId": "110238762482034332813"
     },
     "user_tz": -120
    },
    "id": "wnDUf1WUIBdv",
    "outputId": "76160cf9-58fa-400f-e4e5-a44a5bba6a6f"
   },
   "outputs": [
    {
     "name": "stdout",
     "output_type": "stream",
     "text": [
      "18.0\n"
     ]
    }
   ],
   "source": [
    "#Il y a un pic au tout début, je cherche à savoir de quel age précisément il s'agit\n",
    "print(df_age.age.min())"
   ]
  },
  {
   "cell_type": "code",
   "execution_count": 101,
   "metadata": {
    "colab": {
     "autoexec": {
      "startup": false,
      "wait_interval": 0
     },
     "base_uri": "https://localhost:8080/",
     "height": 66
    },
    "colab_type": "code",
    "executionInfo": {
     "elapsed": 558,
     "status": "ok",
     "timestamp": 1531388724641,
     "user": {
      "displayName": "Charles",
      "photoUrl": "https://lh3.googleusercontent.com/a/default-user=s128",
      "userId": "110238762482034332813"
     },
     "user_tz": -120
    },
    "id": "FnnorU56IBdy",
    "outputId": "94cfe272-7c97-4bd8-cfcf-718f04253079"
   },
   "outputs": [
    {
     "name": "stdout",
     "output_type": "stream",
     "text": [
      "False    8163\n",
      "True      437\n",
      "Name: age, dtype: int64\n"
     ]
    }
   ],
   "source": [
    "print((df_age['age'] == 18).value_counts())"
   ]
  },
  {
   "cell_type": "markdown",
   "metadata": {
    "colab_type": "text",
    "id": "WqQYnyirIBd0"
   },
   "source": [
    "Il y a 440 clients déclarant avoir 18ans, comme c'est un pic, on peut imaginer que ceux qui ont moins de 18ans on rentrés une fausse date de naissance, il s'agit donc de clients ayant 18ans ou moins."
   ]
  },
  {
   "cell_type": "code",
   "execution_count": 102,
   "metadata": {
    "colab": {
     "autoexec": {
      "startup": false,
      "wait_interval": 0
     },
     "base_uri": "https://localhost:8080/",
     "height": 375
    },
    "colab_type": "code",
    "executionInfo": {
     "elapsed": 764,
     "status": "ok",
     "timestamp": 1531388725850,
     "user": {
      "displayName": "Charles",
      "photoUrl": "https://lh3.googleusercontent.com/a/default-user=s128",
      "userId": "110238762482034332813"
     },
     "user_tz": -120
    },
    "id": "e-9jZ5DVIBd1",
    "outputId": "bd4eac09-1bba-45d4-c9bd-d29fbdfd4045"
   },
   "outputs": [
    {
     "data": {
      "image/png": "[encoded data removed]",
      "text/plain": [
       "<matplotlib.figure.Figure at 0x1a10f04fd0>"
      ]
     },
     "metadata": {},
     "output_type": "display_data"
    }
   ],
   "source": [
    "nb_achats = df['client_id'].value_counts()\n",
    "pd.value_counts(nb_achats).plot(kind=\"hist\",width=5, bins = 100)\n",
    "plt.title(\"Nombre d'achats par client\")\n",
    "plt.xlabel('nombre d\\'acheteur')\n",
    "plt.ylabel('nombre d\\'achat')\n",
    "plt.savefig('nombre d achats par clients.png')\n",
    "plt.show()"
   ]
  },
  {
   "cell_type": "code",
   "execution_count": 103,
   "metadata": {
    "colab": {
     "autoexec": {
      "startup": false,
      "wait_interval": 0
     },
     "base_uri": "https://localhost:8080/",
     "height": 346
    },
    "colab_type": "code",
    "executionInfo": {
     "elapsed": 758,
     "status": "ok",
     "timestamp": 1531388726839,
     "user": {
      "displayName": "Charles",
      "photoUrl": "https://lh3.googleusercontent.com/a/default-user=s128",
      "userId": "110238762482034332813"
     },
     "user_tz": -120
    },
    "id": "3HNPUs2TIBd4",
    "outputId": "7c406dd5-5b61-426c-b285-946324e70135"
   },
   "outputs": [
    {
     "data": {
      "image/png": "[encoded data removed]",
      "text/plain": [
       "<matplotlib.figure.Figure at 0x1a12080390>"
      ]
     },
     "metadata": {},
     "output_type": "display_data"
    }
   ],
   "source": [
    "#courbe de Lorenz pour les acheteurs, dépenses t'ils tous de la même manière?\n",
    "\n",
    "depenses = df[df['price']>0]\n",
    "dep = depenses['price'].values\n",
    "lorenz = np.cumsum(np.sort(dep)) / dep.sum()\n",
    "lorenz = np.append([0],lorenz) # La courbe de Lorenz commence à 0\n",
    "plt.plot([0,1], [0,1], color='blue') #tracé de la bissectrice\n",
    "plt.plot(np.linspace(0,1,len(lorenz)),lorenz,drawstyle='steps-post',color='green') #tracé courbe de Lorenz\n",
    "plt.title('courbe de Lorenz des dépenses des acheteurs')\n",
    "plt.savefig('courbe de lorenz pour les acheteurs.png')\n",
    "plt.show()"
   ]
  },
  {
   "cell_type": "code",
   "execution_count": 104,
   "metadata": {
    "colab": {
     "autoexec": {
      "startup": false,
      "wait_interval": 0
     },
     "base_uri": "https://localhost:8080/",
     "height": 33
    },
    "colab_type": "code",
    "executionInfo": {
     "elapsed": 544,
     "status": "ok",
     "timestamp": 1531388727626,
     "user": {
      "displayName": "Charles",
      "photoUrl": "https://lh3.googleusercontent.com/a/default-user=s128",
      "userId": "110238762482034332813"
     },
     "user_tz": -120
    },
    "id": "KP7V7W8kIBd5",
    "outputId": "3b9c414f-b49c-44e6-dbf1-734b6723c40b"
   },
   "outputs": [
    {
     "data": {
      "text/plain": [
       "0.3921239025070484"
      ]
     },
     "execution_count": 104,
     "metadata": {},
     "output_type": "execute_result"
    }
   ],
   "source": [
    "aire_ss_courbe = lorenz[:-1].sum()/len(lorenz) # aire sous la courbe de Lorenz. La dernière valeur ne participe pas à l'aire, d'où \"[:-1]\"\n",
    "S = 0.5 - aire_ss_courbe # aire entre la 1e bissectrice et la courbe de Lorenz\n",
    "gini = 2*S\n",
    "gini"
   ]
  },
  {
   "cell_type": "markdown",
   "metadata": {
    "colab_type": "text",
    "id": "RtG4vHFlIBd8"
   },
   "source": [
    "<B> Quels sont nos produits ? <B/>"
   ]
  },
  {
   "cell_type": "code",
   "execution_count": 105,
   "metadata": {
    "colab": {
     "autoexec": {
      "startup": false,
      "wait_interval": 0
     }
    },
    "colab_type": "code",
    "id": "GawAb8XyIBd9"
   },
   "outputs": [],
   "source": [
    "df = df[df['categ'] != '0']"
   ]
  },
  {
   "cell_type": "code",
   "execution_count": 106,
   "metadata": {
    "colab": {
     "autoexec": {
      "startup": false,
      "wait_interval": 0
     },
     "base_uri": "https://localhost:8080/",
     "height": 888
    },
    "colab_type": "code",
    "executionInfo": {
     "elapsed": 784,
     "status": "ok",
     "timestamp": 1531388729861,
     "user": {
      "displayName": "Charles",
      "photoUrl": "https://lh3.googleusercontent.com/a/default-user=s128",
      "userId": "110238762482034332813"
     },
     "user_tz": -120
    },
    "id": "P2KaiW1KIBd_",
    "outputId": "b429ef04-14d9-486d-a4f3-1afffe330ec5"
   },
   "outputs": [
    {
     "data": {
      "image/png": "[encoded data removed]",
      "text/plain": [
       "<matplotlib.figure.Figure at 0x1a0e016b00>"
      ]
     },
     "metadata": {},
     "output_type": "display_data"
    },
    {
     "name": "stdout",
     "output_type": "stream",
     "text": [
      "--------------------------------------------\n",
      "le nombre de produits par catégorie\n",
      "0    2309\n",
      "1     739\n",
      "2     239\n",
      "Name: categ, dtype: int64\n",
      "--------------------------------------------\n"
     ]
    },
    {
     "data": {
      "image/png": "[encoded data removed]",
      "text/plain": [
       "<matplotlib.figure.Figure at 0x1a0ded9400>"
      ]
     },
     "metadata": {},
     "output_type": "display_data"
    },
    {
     "name": "stdout",
     "output_type": "stream",
     "text": [
      "--------------------------------------------\n",
      "le nombre de vente par catégorie\n",
      "0.0    209426\n",
      "1.0    109735\n",
      "2.0     17552\n",
      "Name: categ, dtype: int64\n"
     ]
    }
   ],
   "source": [
    "labels = 'catégorie 0', 'catégorie 1', 'catégorie 2'\n",
    "df_produits_brut['categ'].value_counts().plot.pie(labels=labels, autopct='%1.1f%%',shadow=True)\n",
    "plt.title(\"Répartition des produits par catégorie\")\n",
    "plt.savefig('Répartition des produits par catégorie.png')\n",
    "plt.show()\n",
    "print('--------------------------------------------')\n",
    "print(\"le nombre de produits par catégorie\")\n",
    "print(df_produits_brut['categ'].value_counts(normalize=False, sort=True, ascending=False, bins=None, dropna=True))\n",
    "\n",
    "print('--------------------------------------------')\n",
    "\n",
    "labels = 'catégorie 0', 'catégorie 1', 'catégorie 2'\n",
    "df['categ'].value_counts().plot.pie(labels=labels, autopct='%1.1f%%',shadow=True)\n",
    "plt.title(\"Répartition des ventes par catégorie\")\n",
    "plt.savefig('Répartition des ventes par catégorie.png')\n",
    "plt.show()\n",
    "print('--------------------------------------------')\n",
    "print(\"le nombre de vente par catégorie\")\n",
    "print(df['categ'].value_counts(normalize=False, sort=True, ascending=False, bins=None, dropna=True))"
   ]
  },
  {
   "cell_type": "code",
   "execution_count": 107,
   "metadata": {
    "colab": {
     "autoexec": {
      "startup": false,
      "wait_interval": 0
     },
     "base_uri": "https://localhost:8080/",
     "height": 694
    },
    "colab_type": "code",
    "executionInfo": {
     "elapsed": 747,
     "status": "ok",
     "timestamp": 1531388730830,
     "user": {
      "displayName": "Charles",
      "photoUrl": "https://lh3.googleusercontent.com/a/default-user=s128",
      "userId": "110238762482034332813"
     },
     "user_tz": -120
    },
    "id": "J8PQFKOlIBeA",
    "outputId": "6245deb9-43af-4bac-9000-fd4220dc5e96"
   },
   "outputs": [
    {
     "data": {
      "image/png": "[encoded data removed]",
      "text/plain": [
       "<matplotlib.figure.Figure at 0x1a10598b70>"
      ]
     },
     "metadata": {},
     "output_type": "display_data"
    },
    {
     "name": "stdout",
     "output_type": "stream",
     "text": [
      "--------------------------------------------\n",
      "0\n",
      "moy:\n",
      " 11.72728020788248\n",
      "med:\n",
      " 10.32\n",
      "--------------------------------------------\n",
      "1\n",
      "moy:\n",
      " 25.531420838971624\n",
      "med:\n",
      " 22.99\n",
      "--------------------------------------------\n",
      "2\n",
      "moy:\n",
      " 108.35468619246883\n",
      "med:\n",
      " 101.99\n"
     ]
    }
   ],
   "source": [
    "sns.set_style(\"whitegrid\")\n",
    "ax = sns.boxplot(y='price', x='categ', \n",
    "                 data=df, \n",
    "                 width=0.5,\n",
    "                 palette=\"colorblind\")\n",
    "plt.title('prix des catégories')\n",
    "plt.savefig('boxplot prix des catégories')\n",
    "plt.show()\n",
    "for cat in df_produits_brut[\"categ\"].unique():\n",
    "    subset = df_produits_brut[df_produits_brut.categ == cat] # Création du sous-échantillon\n",
    "    print(\"-\"*44)\n",
    "    print(cat)\n",
    "    print(\"moy:\\n\",subset['price'].mean())\n",
    "    print(\"med:\\n\",subset['price'].median())"
   ]
  },
  {
   "cell_type": "code",
   "execution_count": 108,
   "metadata": {
    "colab": {
     "autoexec": {
      "startup": false,
      "wait_interval": 0
     },
     "base_uri": "https://localhost:8080/",
     "height": 408
    },
    "colab_type": "code",
    "executionInfo": {
     "elapsed": 878,
     "status": "ok",
     "timestamp": 1531388731956,
     "user": {
      "displayName": "Charles",
      "photoUrl": "https://lh3.googleusercontent.com/a/default-user=s128",
      "userId": "110238762482034332813"
     },
     "user_tz": -120
    },
    "id": "PR-hRerQIBeD",
    "outputId": "95fb4619-e686-4787-ee32-65917f27d49d"
   },
   "outputs": [
    {
     "name": "stderr",
     "output_type": "stream",
     "text": [
      "/Users/utilisateur/anaconda3/lib/python3.6/site-packages/numpy/core/fromnumeric.py:52: FutureWarning: reshape is deprecated and will raise in a subsequent release. Please use .values.reshape(...) instead\n",
      "  return getattr(obj, method)(*args, **kwds)\n"
     ]
    },
    {
     "data": {
      "image/png": "[encoded data removed]",
      "text/plain": [
       "<matplotlib.figure.Figure at 0x1a10401ef0>"
      ]
     },
     "metadata": {},
     "output_type": "display_data"
    }
   ],
   "source": [
    "df_cat_only = df[['price', 'categ']]\n",
    "\n",
    "df_cat0 = df_cat_only[ df_cat_only['categ'] == 0 ]\n",
    "df_cat1 = df_cat_only[ df_cat_only['categ'] == 1 ]\n",
    "df_cat2 = df_cat_only[ df_cat_only['categ'] == 2 ]\n",
    "\n",
    "x1 = df_cat0['price']\n",
    "x2 = df_cat1['price']\n",
    "x3 = df_cat2['price']\n",
    "bins = [x + 0.5 for x in range(0, 80)]\n",
    "plt.hist([x1, x2, x3], bins = bins, color = ['yellow', 'green', 'blue'],\n",
    "            edgecolor = 'black', alpha = 0.6, label = ['cat0', 'cat1', 'cat2'],\n",
    "            histtype = 'stepfilled')\n",
    "plt.ylabel('nombre de ventes')\n",
    "plt.xlabel('prix')\n",
    "plt.title('prix des catégories')\n",
    "plt.gca().legend()\n",
    "plt.savefig('nbr de ventes par catégorie et prix.png')\n",
    "plt.show()"
   ]
  },
  {
   "cell_type": "markdown",
   "metadata": {
    "colab_type": "text",
    "id": "rH54EjZ-IBeK"
   },
   "source": [
    "Comment sont les ventes ?"
   ]
  },
  {
   "cell_type": "code",
   "execution_count": 109,
   "metadata": {
    "colab": {
     "autoexec": {
      "startup": false,
      "wait_interval": 0
     },
     "base_uri": "https://localhost:8080/",
     "height": 33
    },
    "colab_type": "code",
    "executionInfo": {
     "elapsed": 725,
     "status": "ok",
     "timestamp": 1531388732811,
     "user": {
      "displayName": "Charles",
      "photoUrl": "https://lh3.googleusercontent.com/a/default-user=s128",
      "userId": "110238762482034332813"
     },
     "user_tz": -120
    },
    "id": "SNyLTVbWIBeK",
    "outputId": "b2b9d9a8-daf5-4861-c0e1-a071e37902b2"
   },
   "outputs": [
    {
     "name": "stdout",
     "output_type": "stream",
     "text": [
      "panier moyen de 34 euros\n"
     ]
    }
   ],
   "source": [
    "#calcul du panier moyen\n",
    "panier = df.groupby(['session_id']).price.sum() #Je regroupe par session d'achat donc par \"panier\"\n",
    "\n",
    "print(\"panier moyen de\", round(panier.mean()),\"euros\")"
   ]
  },
  {
   "cell_type": "markdown",
   "metadata": {
    "colab_type": "text",
    "id": "A14R_GtxIBeN"
   },
   "source": [
    "Après étude, notre df va de mars 2021 à février 2022"
   ]
  },
  {
   "cell_type": "code",
   "execution_count": 110,
   "metadata": {
    "colab": {
     "autoexec": {
      "startup": false,
      "wait_interval": 0
     },
     "base_uri": "https://localhost:8080/",
     "height": 352
    },
    "colab_type": "code",
    "executionInfo": {
     "elapsed": 882,
     "status": "ok",
     "timestamp": 1531388733964,
     "user": {
      "displayName": "Charles",
      "photoUrl": "https://lh3.googleusercontent.com/a/default-user=s128",
      "userId": "110238762482034332813"
     },
     "user_tz": -120
    },
    "id": "TEgR-xNbIBeN",
    "outputId": "e143da70-fc6c-49a6-9ba1-84825d442dc2"
   },
   "outputs": [
    {
     "data": {
      "image/png": "[encoded data removed]",
      "text/plain": [
       "<matplotlib.figure.Figure at 0x1a290d80f0>"
      ]
     },
     "metadata": {},
     "output_type": "display_data"
    }
   ],
   "source": [
    "\n",
    "dep = df[[\"date3\",\"price\"]].groupby(\"date3\", as_index=False).sum().sort_values(\"date3\",ascending=True)\n",
    "ax = dep.plot(kind = \"bar\", figsize=(12,5),color=\"green\")\n",
    "ax.set_xlabel(\"Mois\", fontsize=16)\n",
    "ax.set_ylabel(\"CA\", fontsize=16)\n",
    "ax.xaxis.set_ticklabels(['mars', 'avril', 'mai', 'juin', 'juillet','août','septembre','octobre','novembre','décembre','janvier','février'], rotation = 0, color = 'black', fontsize = 10, style = 'normal', verticalalignment = 'center')\n",
    "ax.set_title(\"chiffre d'affaires par mois\", fontsize=16)\n",
    "ax.legend().set_visible(False)  # on supprime la légende\n",
    "\n",
    "# on change la taille de police de certains labels\n",
    "for i,tick in enumerate(ax.xaxis.get_major_ticks()):\n",
    "    if i > 10 :\n",
    "        tick.label.set_fontsize(10)"
   ]
  },
  {
   "cell_type": "code",
   "execution_count": 111,
   "metadata": {
    "colab": {
     "autoexec": {
      "startup": false,
      "wait_interval": 0
     },
     "base_uri": "https://localhost:8080/",
     "height": 674
    },
    "colab_type": "code",
    "executionInfo": {
     "elapsed": 1113,
     "status": "ok",
     "timestamp": 1531388735205,
     "user": {
      "displayName": "Charles",
      "photoUrl": "https://lh3.googleusercontent.com/a/default-user=s128",
      "userId": "110238762482034332813"
     },
     "user_tz": -120
    },
    "id": "kKsJY27YIBeQ",
    "outputId": "fdfd21c5-35d6-4f24-a931-ff52c563bb8d"
   },
   "outputs": [
    {
     "data": {
      "image/png": "[encoded data removed]",
      "text/plain": [
       "<matplotlib.figure.Figure at 0x1a2ab3b5f8>"
      ]
     },
     "metadata": {},
     "output_type": "display_data"
    }
   ],
   "source": [
    "\n",
    "dftest = df[df['categ'] != '0']\n",
    "\n",
    "graph = df.groupby(['categ', 'date3'])['price'].sum().unstack('categ').fillna(0)\n",
    "ax = graph.plot(kind = \"bar\", stacked=True, figsize=(10,10))\n",
    "ax.set_xlabel(\"Mois\", fontsize=16)\n",
    "ax.set_ylabel(\"CA\", fontsize=16)\n",
    "ax.xaxis.set_ticklabels(['mars', 'avril', 'mai', 'juin', 'juillet','août','septembre','octobre','novembre','décembre','janvier','février'], rotation = 90, color = 'black', fontsize = 12, style = 'normal', verticalalignment = 'top')\n",
    "ax.set_title(\"chiffre d'affaires par mois / catégories cumulées\", fontsize=16)\n",
    "ax.legend().set_visible(True)  # on supprime la légende\n",
    "plt.savefig('chiffre daffaires par mois catégories cumulées.png')"
   ]
  },
  {
   "cell_type": "markdown",
   "metadata": {
    "colab_type": "text",
    "id": "6OxELEJkIBeS"
   },
   "source": [
    "La chute en octobre du CA est dûe à une chute des ventes de livres de la catégorie 1"
   ]
  },
  {
   "cell_type": "code",
   "execution_count": 112,
   "metadata": {
    "colab": {
     "autoexec": {
      "startup": false,
      "wait_interval": 0
     },
     "base_uri": "https://localhost:8080/",
     "height": 437
    },
    "colab_type": "code",
    "executionInfo": {
     "elapsed": 550,
     "status": "ok",
     "timestamp": 1531388735770,
     "user": {
      "displayName": "Charles",
      "photoUrl": "https://lh3.googleusercontent.com/a/default-user=s128",
      "userId": "110238762482034332813"
     },
     "user_tz": -120
    },
    "id": "kYjFGk7MIBeT",
    "outputId": "d3b9194d-13ee-46ef-c451-b00ccddc2933"
   },
   "outputs": [
    {
     "data": {
      "text/html": [
       "<div>\n",
       "<style scoped>\n",
       "    .dataframe tbody tr th:only-of-type {\n",
       "        vertical-align: middle;\n",
       "    }\n",
       "\n",
       "    .dataframe tbody tr th {\n",
       "        vertical-align: top;\n",
       "    }\n",
       "\n",
       "    .dataframe thead th {\n",
       "        text-align: right;\n",
       "    }\n",
       "</style>\n",
       "<table border=\"1\" class=\"dataframe\">\n",
       "  <thead>\n",
       "    <tr style=\"text-align: right;\">\n",
       "      <th>categ</th>\n",
       "      <th>0.0</th>\n",
       "      <th>1.0</th>\n",
       "      <th>2.0</th>\n",
       "    </tr>\n",
       "    <tr>\n",
       "      <th>date3</th>\n",
       "      <th></th>\n",
       "      <th></th>\n",
       "      <th></th>\n",
       "    </tr>\n",
       "  </thead>\n",
       "  <tbody>\n",
       "    <tr>\n",
       "      <th>2021-03</th>\n",
       "      <td>193566.38</td>\n",
       "      <td>186974.17</td>\n",
       "      <td>98771.48</td>\n",
       "    </tr>\n",
       "    <tr>\n",
       "      <th>2021-04</th>\n",
       "      <td>205159.67</td>\n",
       "      <td>156138.35</td>\n",
       "      <td>111682.70</td>\n",
       "    </tr>\n",
       "    <tr>\n",
       "      <th>2021-05</th>\n",
       "      <td>196114.96</td>\n",
       "      <td>165893.40</td>\n",
       "      <td>127359.59</td>\n",
       "    </tr>\n",
       "    <tr>\n",
       "      <th>2021-06</th>\n",
       "      <td>167886.34</td>\n",
       "      <td>189162.04</td>\n",
       "      <td>124209.56</td>\n",
       "    </tr>\n",
       "    <tr>\n",
       "      <th>2021-07</th>\n",
       "      <td>144711.92</td>\n",
       "      <td>188523.27</td>\n",
       "      <td>147663.47</td>\n",
       "    </tr>\n",
       "    <tr>\n",
       "      <th>2021-08</th>\n",
       "      <td>167677.82</td>\n",
       "      <td>162991.38</td>\n",
       "      <td>148635.99</td>\n",
       "    </tr>\n",
       "    <tr>\n",
       "      <th>2021-09</th>\n",
       "      <td>246264.21</td>\n",
       "      <td>190613.78</td>\n",
       "      <td>65893.29</td>\n",
       "    </tr>\n",
       "    <tr>\n",
       "      <th>2021-10</th>\n",
       "      <td>199217.94</td>\n",
       "      <td>33762.32</td>\n",
       "      <td>86179.70</td>\n",
       "    </tr>\n",
       "    <tr>\n",
       "      <th>2021-11</th>\n",
       "      <td>155843.78</td>\n",
       "      <td>252910.39</td>\n",
       "      <td>104136.00</td>\n",
       "    </tr>\n",
       "    <tr>\n",
       "      <th>2021-12</th>\n",
       "      <td>205976.44</td>\n",
       "      <td>251026.75</td>\n",
       "      <td>65934.49</td>\n",
       "    </tr>\n",
       "    <tr>\n",
       "      <th>2022-01</th>\n",
       "      <td>164162.67</td>\n",
       "      <td>256267.92</td>\n",
       "      <td>102524.72</td>\n",
       "    </tr>\n",
       "    <tr>\n",
       "      <th>2022-02</th>\n",
       "      <td>183140.52</td>\n",
       "      <td>213120.64</td>\n",
       "      <td>136479.72</td>\n",
       "    </tr>\n",
       "  </tbody>\n",
       "</table>\n",
       "</div>"
      ],
      "text/plain": [
       "categ          0.0        1.0        2.0\n",
       "date3                                   \n",
       "2021-03  193566.38  186974.17   98771.48\n",
       "2021-04  205159.67  156138.35  111682.70\n",
       "2021-05  196114.96  165893.40  127359.59\n",
       "2021-06  167886.34  189162.04  124209.56\n",
       "2021-07  144711.92  188523.27  147663.47\n",
       "2021-08  167677.82  162991.38  148635.99\n",
       "2021-09  246264.21  190613.78   65893.29\n",
       "2021-10  199217.94   33762.32   86179.70\n",
       "2021-11  155843.78  252910.39  104136.00\n",
       "2021-12  205976.44  251026.75   65934.49\n",
       "2022-01  164162.67  256267.92  102524.72\n",
       "2022-02  183140.52  213120.64  136479.72"
      ]
     },
     "execution_count": 112,
     "metadata": {},
     "output_type": "execute_result"
    }
   ],
   "source": [
    "df.groupby(['categ', 'date3'])['price'].sum().unstack('categ').fillna(0)"
   ]
  },
  {
   "cell_type": "markdown",
   "metadata": {
    "colab_type": "text",
    "id": "iyYSi-3QIBeV"
   },
   "source": [
    "Seulement 33762 euros de CA pour la categ 1 au lieu des 200.000 / 250.000 espérés"
   ]
  },
  {
   "cell_type": "code",
   "execution_count": 113,
   "metadata": {
    "colab": {
     "autoexec": {
      "startup": false,
      "wait_interval": 0
     },
     "base_uri": "https://localhost:8080/",
     "height": 133
    },
    "colab_type": "code",
    "executionInfo": {
     "elapsed": 557,
     "status": "ok",
     "timestamp": 1531388736645,
     "user": {
      "displayName": "Charles",
      "photoUrl": "https://lh3.googleusercontent.com/a/default-user=s128",
      "userId": "110238762482034332813"
     },
     "user_tz": -120
    },
    "id": "KhYGARsR_LsN",
    "outputId": "33faa94e-3aca-470f-b9aa-c090f9d98af9"
   },
   "outputs": [
    {
     "data": {
      "text/plain": [
       "date2\n",
       "01-10-2021    7003.79\n",
       "28-10-2021    6317.99\n",
       "29-10-2021    6425.18\n",
       "30-10-2021    6753.69\n",
       "31-10-2021    7261.67\n",
       "Name: price, dtype: float64"
      ]
     },
     "execution_count": 113,
     "metadata": {},
     "output_type": "execute_result"
    }
   ],
   "source": [
    "# Je dois donc analyser les ventes de la catégorie 1 seulement sur Octobre\n",
    "df_oct = df[df['categ']==1]\n",
    "df_oct = df_oct[df_oct['month']==10]\n",
    "\n",
    "df_oct.groupby(['date2'])['price'].sum()\n"
   ]
  },
  {
   "cell_type": "markdown",
   "metadata": {
    "colab_type": "text",
    "id": "OHGHSIV_EO_V"
   },
   "source": [
    "Nous n'avons aucunes données entre le 2 octobre et le 28 octobre"
   ]
  },
  {
   "cell_type": "markdown",
   "metadata": {
    "colab_type": "text",
    "id": "QoPL21FrIBeV"
   },
   "source": [
    "# <B>Mission n°3<B/>\n",
    "Recherche de corrélations"
   ]
  },
  {
   "cell_type": "markdown",
   "metadata": {
    "colab_type": "text",
    "id": "j8IrODsoIBeW"
   },
   "source": [
    "** Y a-t-il une corrélation entre le sexe des clients et les catégories de produits achetés ? **"
   ]
  },
  {
   "cell_type": "code",
   "execution_count": 114,
   "metadata": {
    "colab": {
     "autoexec": {
      "startup": false,
      "wait_interval": 0
     },
     "base_uri": "https://localhost:8080/",
     "height": 167
    },
    "colab_type": "code",
    "executionInfo": {
     "elapsed": 492,
     "status": "ok",
     "timestamp": 1531389580444,
     "user": {
      "displayName": "Charles",
      "photoUrl": "https://lh3.googleusercontent.com/a/default-user=s128",
      "userId": "110238762482034332813"
     },
     "user_tz": -120
    },
    "id": "fnA-iUtZIBeW",
    "outputId": "d5eadd80-0d1a-4fc8-d117-ef650f4b0635"
   },
   "outputs": [
    {
     "data": {
      "text/html": [
       "<div>\n",
       "<style scoped>\n",
       "    .dataframe tbody tr th:only-of-type {\n",
       "        vertical-align: middle;\n",
       "    }\n",
       "\n",
       "    .dataframe tbody tr th {\n",
       "        vertical-align: top;\n",
       "    }\n",
       "\n",
       "    .dataframe thead th {\n",
       "        text-align: right;\n",
       "    }\n",
       "</style>\n",
       "<table border=\"1\" class=\"dataframe\">\n",
       "  <thead>\n",
       "    <tr style=\"text-align: right;\">\n",
       "      <th>categ</th>\n",
       "      <th>0.0</th>\n",
       "      <th>1.0</th>\n",
       "      <th>2.0</th>\n",
       "      <th>Total</th>\n",
       "    </tr>\n",
       "    <tr>\n",
       "      <th>sex</th>\n",
       "      <th></th>\n",
       "      <th></th>\n",
       "      <th></th>\n",
       "      <th></th>\n",
       "    </tr>\n",
       "  </thead>\n",
       "  <tbody>\n",
       "    <tr>\n",
       "      <th>f</th>\n",
       "      <td>103786.0</td>\n",
       "      <td>55469.0</td>\n",
       "      <td>8260.0</td>\n",
       "      <td>167515.0</td>\n",
       "    </tr>\n",
       "    <tr>\n",
       "      <th>m</th>\n",
       "      <td>105640.0</td>\n",
       "      <td>54266.0</td>\n",
       "      <td>9292.0</td>\n",
       "      <td>169198.0</td>\n",
       "    </tr>\n",
       "    <tr>\n",
       "      <th>total</th>\n",
       "      <td>209426.0</td>\n",
       "      <td>109735.0</td>\n",
       "      <td>17552.0</td>\n",
       "      <td>336713.0</td>\n",
       "    </tr>\n",
       "  </tbody>\n",
       "</table>\n",
       "</div>"
      ],
      "text/plain": [
       "categ       0.0       1.0      2.0     Total\n",
       "sex                                         \n",
       "f      103786.0   55469.0   8260.0  167515.0\n",
       "m      105640.0   54266.0   9292.0  169198.0\n",
       "total  209426.0  109735.0  17552.0  336713.0"
      ]
     },
     "execution_count": 114,
     "metadata": {},
     "output_type": "execute_result"
    }
   ],
   "source": [
    "#J'affiche le tableau de contingence\n",
    "X = \"sex\"\n",
    "Y = \"categ\"\n",
    "\n",
    "c = df[[X,Y]].pivot_table(index=X,columns=Y,aggfunc=len)\n",
    "cont = c.copy()\n",
    "\n",
    "tx = df[X].value_counts()\n",
    "ty = df[Y].value_counts()\n",
    "\n",
    "cont.loc[:,\"Total\"] = tx\n",
    "cont.loc[\"total\",:] = ty\n",
    "cont.loc[\"total\",\"Total\"] = len(df)\n",
    "cont"
   ]
  },
  {
   "cell_type": "code",
   "execution_count": 115,
   "metadata": {
    "colab": {
     "autoexec": {
      "startup": false,
      "wait_interval": 0
     },
     "base_uri": "https://localhost:8080/",
     "height": 166
    },
    "colab_type": "code",
    "executionInfo": {
     "elapsed": 537,
     "status": "ok",
     "timestamp": 1531388738620,
     "user": {
      "displayName": "Charles",
      "photoUrl": "https://lh3.googleusercontent.com/a/default-user=s128",
      "userId": "110238762482034332813"
     },
     "user_tz": -120
    },
    "id": "oJSVzYOyIBea",
    "outputId": "7f607bff-7044-4855-af26-46cd8aafb3d9"
   },
   "outputs": [
    {
     "data": {
      "text/plain": [
       "(81.86933350990711,\n",
       " 1.467788236006804e-15,\n",
       " 6,\n",
       " array([[104189.61070704,  54593.25456695,   8732.13472601,\n",
       "         167515.        ],\n",
       "        [105236.38929296,  55141.74543305,   8819.86527399,\n",
       "         169198.        ],\n",
       "        [209426.        , 109735.        ,  17552.        ,\n",
       "         336713.        ]]))"
      ]
     },
     "execution_count": 115,
     "metadata": {},
     "output_type": "execute_result"
    }
   ],
   "source": [
    "chi2_contingency(cont) #Pour avoir notamment le chi-2 et la P-value"
   ]
  },
  {
   "cell_type": "code",
   "execution_count": 116,
   "metadata": {
    "colab": {
     "autoexec": {
      "startup": false,
      "wait_interval": 0
     },
     "base_uri": "https://localhost:8080/",
     "height": 377
    },
    "colab_type": "code",
    "executionInfo": {
     "elapsed": 460,
     "status": "ok",
     "timestamp": 1531388739544,
     "user": {
      "displayName": "Charles",
      "photoUrl": "https://lh3.googleusercontent.com/a/default-user=s128",
      "userId": "110238762482034332813"
     },
     "user_tz": -120
    },
    "id": "IKYTmRa_IBed",
    "outputId": "c09de276-d284-4910-fe0b-8152080ae3c0"
   },
   "outputs": [
    {
     "data": {
      "image/png": "[encoded data removed]",
      "text/plain": [
       "<matplotlib.figure.Figure at 0x1a136067b8>"
      ]
     },
     "metadata": {},
     "output_type": "display_data"
    },
    {
     "name": "stdout",
     "output_type": "stream",
     "text": [
      "81.86933350990711\n"
     ]
    }
   ],
   "source": [
    "tx = pd.DataFrame(tx)\n",
    "ty = pd.DataFrame(ty)\n",
    "tx.columns = [\"foo\"]\n",
    "ty.columns = [\"foo\"]\n",
    "n = len(df)\n",
    "indep = tx.dot(ty.T) / n\n",
    "\n",
    "c = c.fillna(0) # on remplace les valeurs nulles par des 0\n",
    "mesure = (c-indep)**2/indep\n",
    "xi_n = mesure.sum().sum()\n",
    "sns.heatmap(mesure/xi_n,annot=round((mesure/xi_n*100),1))\n",
    "plt.title('heatmap corrélation sexe et catégorie d\\'achat')\n",
    "plt.savefig('heatmap sexe_categ.png')\n",
    "plt.show()\n",
    "print(xi_n)"
   ]
  },
  {
   "cell_type": "markdown",
   "metadata": {
    "colab_type": "text",
    "id": "Pm2djiHbYIu4"
   },
   "source": [
    "Il y a donc une correlation entre le sexe de l'acheteur et la catégorie d'achat, la valeur P nous indique que cette hyptothése est hautement probable."
   ]
  },
  {
   "cell_type": "markdown",
   "metadata": {
    "colab_type": "text",
    "id": "5zUk-IqAIBef"
   },
   "source": [
    "**Y a-t-il une corrélation entre l'âge des clients et le montant total des achats?**"
   ]
  },
  {
   "cell_type": "code",
   "execution_count": 117,
   "metadata": {
    "colab": {
     "autoexec": {
      "startup": false,
      "wait_interval": 0
     },
     "base_uri": "https://localhost:8080/",
     "height": 346
    },
    "colab_type": "code",
    "executionInfo": {
     "elapsed": 2362,
     "status": "ok",
     "timestamp": 1531388742444,
     "user": {
      "displayName": "Charles",
      "photoUrl": "https://lh3.googleusercontent.com/a/default-user=s128",
      "userId": "110238762482034332813"
     },
     "user_tz": -120
    },
    "id": "w4F7m3YcIBef",
    "outputId": "2142f0b0-63e1-43d3-f683-1beb54542887"
   },
   "outputs": [
    {
     "data": {
      "image/png": "[encoded data removed]",
      "text/plain": [
       "<matplotlib.figure.Figure at 0x1a2e6d4898>"
      ]
     },
     "metadata": {},
     "output_type": "display_data"
    }
   ],
   "source": [
    "#création d'un df regroupant les dépenses par session :\n",
    "\n",
    "depenses = df.groupby(['session_id']).sum() # on regroupe les sessions\n",
    "depenses['session_id'] = depenses.index # je remet le session_id devenu index en colonne\n",
    "depenses = depenses[['session_id','price']] # Je ne garde que deux colonnes\n",
    "#Je fais une jointure naturelle avec mon df pour avoir les âges\n",
    "df_session = pd.merge(depenses, df)\n",
    "\n",
    "#Je crée le diagramme de dispersion et la droite de regression linéaire\n",
    "\n",
    "x, y = (df_session[\"age\"],df_session[\"price\"])\n",
    "\n",
    "plt.scatter(x,y)\n",
    "\n",
    "regr = linear_model.LinearRegression()\n",
    "regr.fit(x[:,np.newaxis], y)\n",
    "\n",
    "x_test = np.linspace(np.min(x), np.max(x), 100)\n",
    "\n",
    "plt.plot(x_test, regr.predict(x_test[:,np.newaxis]), color='red', linewidth=3)\n",
    "\n",
    "plt.title('corrélation entre l\\'âge des clients et le montant total des achats')\n",
    "plt.xlabel('age')\n",
    "plt.ylabel('montant total des achats')\n",
    "\n",
    "plt.savefig('scatterplot age montant total des achats.png')\n",
    "\n",
    "plt.show()"
   ]
  },
  {
   "cell_type": "code",
   "execution_count": 118,
   "metadata": {
    "colab": {
     "autoexec": {
      "startup": false,
      "wait_interval": 0
     },
     "base_uri": "https://localhost:8080/",
     "height": 66
    },
    "colab_type": "code",
    "executionInfo": {
     "elapsed": 533,
     "status": "ok",
     "timestamp": 1531389700897,
     "user": {
      "displayName": "Charles",
      "photoUrl": "https://lh3.googleusercontent.com/a/default-user=s128",
      "userId": "110238762482034332813"
     },
     "user_tz": -120
    },
    "id": "mSW3fnIUIBeh",
    "outputId": "b02e790d-1fab-46bd-8d1e-fc80aafe8d8e"
   },
   "outputs": [
    {
     "name": "stdout",
     "output_type": "stream",
     "text": [
      "coefficient de Pearson & P-Value (-0.41299344514845054, 0.0)\n"
     ]
    }
   ],
   "source": [
    "print(\"coefficient de Pearson & P-Value\",scipy.stats.pearsonr(df_session[\"age\"], df_session[\"price\"]))"
   ]
  },
  {
   "cell_type": "markdown",
   "metadata": {
    "colab_type": "text",
    "id": "tpqKfT3wIBej"
   },
   "source": [
    "**Y a-t-il une corrélation entre l'âge des clients et la fréquence d’achat?**"
   ]
  },
  {
   "cell_type": "code",
   "execution_count": 119,
   "metadata": {
    "colab": {
     "autoexec": {
      "startup": false,
      "wait_interval": 0
     },
     "base_uri": "https://localhost:8080/",
     "height": 347
    },
    "colab_type": "code",
    "executionInfo": {
     "elapsed": 554,
     "status": "ok",
     "timestamp": 1531388744635,
     "user": {
      "displayName": "Charles",
      "photoUrl": "https://lh3.googleusercontent.com/a/default-user=s128",
      "userId": "110238762482034332813"
     },
     "user_tz": -120
    },
    "id": "eTEdf7S6IBej",
    "outputId": "fa820a17-d8cb-4551-e4b1-c1fce799ff73"
   },
   "outputs": [
    {
     "data": {
      "text/html": [
       "<div>\n",
       "<style scoped>\n",
       "    .dataframe tbody tr th:only-of-type {\n",
       "        vertical-align: middle;\n",
       "    }\n",
       "\n",
       "    .dataframe tbody tr th {\n",
       "        vertical-align: top;\n",
       "    }\n",
       "\n",
       "    .dataframe thead th {\n",
       "        text-align: right;\n",
       "    }\n",
       "</style>\n",
       "<table border=\"1\" class=\"dataframe\">\n",
       "  <thead>\n",
       "    <tr style=\"text-align: right;\">\n",
       "      <th></th>\n",
       "      <th>client_id</th>\n",
       "      <th>freq_an</th>\n",
       "      <th>freq_mois</th>\n",
       "      <th>sex</th>\n",
       "      <th>birth</th>\n",
       "      <th>age</th>\n",
       "    </tr>\n",
       "  </thead>\n",
       "  <tbody>\n",
       "    <tr>\n",
       "      <th>0</th>\n",
       "      <td>c_3454</td>\n",
       "      <td>2207</td>\n",
       "      <td>183.9</td>\n",
       "      <td>m</td>\n",
       "      <td>1969</td>\n",
       "      <td>53</td>\n",
       "    </tr>\n",
       "    <tr>\n",
       "      <th>1</th>\n",
       "      <td>c_1609</td>\n",
       "      <td>1504</td>\n",
       "      <td>125.3</td>\n",
       "      <td>m</td>\n",
       "      <td>1980</td>\n",
       "      <td>42</td>\n",
       "    </tr>\n",
       "    <tr>\n",
       "      <th>2</th>\n",
       "      <td>c_4958</td>\n",
       "      <td>1321</td>\n",
       "      <td>110.1</td>\n",
       "      <td>m</td>\n",
       "      <td>1999</td>\n",
       "      <td>23</td>\n",
       "    </tr>\n",
       "    <tr>\n",
       "      <th>3</th>\n",
       "      <td>c_6714</td>\n",
       "      <td>147</td>\n",
       "      <td>12.2</td>\n",
       "      <td>f</td>\n",
       "      <td>1968</td>\n",
       "      <td>54</td>\n",
       "    </tr>\n",
       "    <tr>\n",
       "      <th>4</th>\n",
       "      <td>c_8087</td>\n",
       "      <td>58</td>\n",
       "      <td>4.8</td>\n",
       "      <td>f</td>\n",
       "      <td>1967</td>\n",
       "      <td>55</td>\n",
       "    </tr>\n",
       "  </tbody>\n",
       "</table>\n",
       "</div>"
      ],
      "text/plain": [
       "  client_id  freq_an  freq_mois sex  birth  age\n",
       "0    c_3454     2207      183.9   m   1969   53\n",
       "1    c_1609     1504      125.3   m   1980   42\n",
       "2    c_4958     1321      110.1   m   1999   23\n",
       "3    c_6714      147       12.2   f   1968   54\n",
       "4    c_8087       58        4.8   f   1967   55"
      ]
     },
     "execution_count": 119,
     "metadata": {},
     "output_type": "execute_result"
    }
   ],
   "source": [
    "# création d'une colonne avec le nombre de session par client (sur un an)\n",
    "df_freq = df_session['client_id'].value_counts()\n",
    "df_freq = df_freq.to_frame() #modifier en tant que Dataframe\n",
    "df_freq['num client'] = df_freq.index #changer l'index en colonne\n",
    "df_freq.columns = ['freq_an', 'client_id'] #renommer les colonnes\n",
    "df_freq = df_freq[['client_id','freq_an']] #modifier l'ordre des colonnes\n",
    "df_freq['freq_mois'] = round(df_freq['freq_an'] / 12, 1) #création de la colonne pour le nombre d'achat par mois, arrondi\n",
    "\n",
    "df_freq = pd.merge (df_freq, df_clients_brut) # jointure naturelle avec le fichier client\n",
    "df_freq['age'] = (2022 - df_freq['birth']) #création de la colonne age\n",
    "\n",
    "df_freq.head()\n"
   ]
  },
  {
   "cell_type": "markdown",
   "metadata": {
    "colab_type": "text",
    "id": "sAU2e1r3SPpb"
   },
   "source": [
    "Il y a plusieurs outliers, mais surtout 4 très gros clients"
   ]
  },
  {
   "cell_type": "code",
   "execution_count": 120,
   "metadata": {},
   "outputs": [
    {
     "data": {
      "text/plain": [
       "9.0"
      ]
     },
     "execution_count": 120,
     "metadata": {},
     "output_type": "execute_result"
    }
   ],
   "source": [
    "#Je calcule l'ecart intercartile\n",
    "iqr(df_freq['freq_an'])"
   ]
  },
  {
   "cell_type": "code",
   "execution_count": 121,
   "metadata": {
    "colab": {
     "autoexec": {
      "startup": false,
      "wait_interval": 0
     }
    },
    "colab_type": "code",
    "id": "u88x7UETTKbo",
    "scrolled": true
   },
   "outputs": [],
   "source": [
    "#Je nettoie le dataframe de ces outliers\n",
    "df_freq_clean = df_freq[df_freq['freq_an'] < 9 ]"
   ]
  },
  {
   "cell_type": "code",
   "execution_count": 122,
   "metadata": {
    "colab": {
     "autoexec": {
      "startup": false,
      "wait_interval": 0
     },
     "base_uri": "https://localhost:8080/",
     "height": 397
    },
    "colab_type": "code",
    "executionInfo": {
     "elapsed": 608,
     "status": "ok",
     "timestamp": 1531389764222,
     "user": {
      "displayName": "Charles",
      "photoUrl": "https://lh3.googleusercontent.com/a/default-user=s128",
      "userId": "110238762482034332813"
     },
     "user_tz": -120
    },
    "id": "bpdaGvXGT15w",
    "outputId": "8c90db61-da32-41a3-b6a4-a0f05cc5a37d",
    "scrolled": true
   },
   "outputs": [
    {
     "data": {
      "image/png": "[encoded data removed]",
      "text/plain": [
       "<matplotlib.figure.Figure at 0x1a1346a5f8>"
      ]
     },
     "metadata": {},
     "output_type": "display_data"
    },
    {
     "name": "stdout",
     "output_type": "stream",
     "text": [
      "coefficient de Pearson & P-Value (0.09426096484856679, 6.268933181977331e-12)\n"
     ]
    }
   ],
   "source": [
    "#Je crée le diagramme de dispersion et la droite de regression linéaire\n",
    "\n",
    "x, y = (df_freq_clean[\"age\"],df_freq_clean[\"freq_mois\"])\n",
    "\n",
    "plt.scatter(x,y)\n",
    "\n",
    "regr = linear_model.LinearRegression()\n",
    "regr.fit(x[:,np.newaxis], y)\n",
    "\n",
    "x_test = np.linspace(np.min(x), np.max(x), 100)\n",
    "\n",
    "plt.plot(x_test, regr.predict(x_test[:,np.newaxis]), color='red', linewidth=3)\n",
    "\n",
    "plt.title('corrélation entre l\\'âge des clients et la fréquence d’achat')\n",
    "plt.xlabel('age')\n",
    "plt.ylabel('nbr achats par mois')\n",
    "\n",
    "plt.savefig('scatterplot age frequence achat.png')\n",
    "\n",
    "plt.show()\n",
    "\n",
    "print(\"coefficient de Pearson & P-Value\",scipy.stats.pearsonr(df_freq_clean[\"age\"], df_freq_clean[\"freq_mois\"]))"
   ]
  },
  {
   "cell_type": "markdown",
   "metadata": {},
   "source": [
    "Il y a donc une dépendance faible entre l'age et la fréquence d'achat"
   ]
  },
  {
   "cell_type": "markdown",
   "metadata": {
    "colab_type": "text",
    "id": "JBkgADDBIBen"
   },
   "source": [
    " **Y a-t-il une corrélation entre l'âge des clients et la taille du panier moyen (en nombre d’articles)**"
   ]
  },
  {
   "cell_type": "code",
   "execution_count": 123,
   "metadata": {
    "colab": {
     "autoexec": {
      "startup": false,
      "wait_interval": 0
     },
     "base_uri": "https://localhost:8080/",
     "height": 197
    },
    "colab_type": "code",
    "executionInfo": {
     "elapsed": 468,
     "status": "ok",
     "timestamp": 1531388747555,
     "user": {
      "displayName": "Charles",
      "photoUrl": "https://lh3.googleusercontent.com/a/default-user=s128",
      "userId": "110238762482034332813"
     },
     "user_tz": -120
    },
    "id": "X_15sKrJ-wvb",
    "outputId": "1b63cd2a-9b44-46cb-b012-ea64e3742d0f"
   },
   "outputs": [
    {
     "data": {
      "text/html": [
       "<div>\n",
       "<style scoped>\n",
       "    .dataframe tbody tr th:only-of-type {\n",
       "        vertical-align: middle;\n",
       "    }\n",
       "\n",
       "    .dataframe tbody tr th {\n",
       "        vertical-align: top;\n",
       "    }\n",
       "\n",
       "    .dataframe thead th {\n",
       "        text-align: right;\n",
       "    }\n",
       "</style>\n",
       "<table border=\"1\" class=\"dataframe\">\n",
       "  <thead>\n",
       "    <tr style=\"text-align: right;\">\n",
       "      <th></th>\n",
       "      <th>client_id</th>\n",
       "      <th>nbr_achat</th>\n",
       "      <th>freq_an</th>\n",
       "      <th>freq_mois</th>\n",
       "      <th>sex</th>\n",
       "      <th>birth</th>\n",
       "      <th>age</th>\n",
       "      <th>panier_moyen_nbr_articles</th>\n",
       "    </tr>\n",
       "  </thead>\n",
       "  <tbody>\n",
       "    <tr>\n",
       "      <th>120</th>\n",
       "      <td>c_3028</td>\n",
       "      <td>148</td>\n",
       "      <td>6</td>\n",
       "      <td>0.5</td>\n",
       "      <td>f</td>\n",
       "      <td>1979</td>\n",
       "      <td>43</td>\n",
       "      <td>24.7</td>\n",
       "    </tr>\n",
       "    <tr>\n",
       "      <th>154</th>\n",
       "      <td>c_4159</td>\n",
       "      <td>144</td>\n",
       "      <td>8</td>\n",
       "      <td>0.7</td>\n",
       "      <td>f</td>\n",
       "      <td>1975</td>\n",
       "      <td>47</td>\n",
       "      <td>18.0</td>\n",
       "    </tr>\n",
       "    <tr>\n",
       "      <th>213</th>\n",
       "      <td>c_1338</td>\n",
       "      <td>135</td>\n",
       "      <td>6</td>\n",
       "      <td>0.5</td>\n",
       "      <td>f</td>\n",
       "      <td>1987</td>\n",
       "      <td>35</td>\n",
       "      <td>22.5</td>\n",
       "    </tr>\n",
       "    <tr>\n",
       "      <th>243</th>\n",
       "      <td>c_4309</td>\n",
       "      <td>131</td>\n",
       "      <td>7</td>\n",
       "      <td>0.6</td>\n",
       "      <td>m</td>\n",
       "      <td>1977</td>\n",
       "      <td>45</td>\n",
       "      <td>18.7</td>\n",
       "    </tr>\n",
       "    <tr>\n",
       "      <th>245</th>\n",
       "      <td>c_4904</td>\n",
       "      <td>131</td>\n",
       "      <td>7</td>\n",
       "      <td>0.6</td>\n",
       "      <td>f</td>\n",
       "      <td>1983</td>\n",
       "      <td>39</td>\n",
       "      <td>18.7</td>\n",
       "    </tr>\n",
       "  </tbody>\n",
       "</table>\n",
       "</div>"
      ],
      "text/plain": [
       "    client_id  nbr_achat  freq_an  freq_mois sex  birth  age  \\\n",
       "120    c_3028        148        6        0.5   f   1979   43   \n",
       "154    c_4159        144        8        0.7   f   1975   47   \n",
       "213    c_1338        135        6        0.5   f   1987   35   \n",
       "243    c_4309        131        7        0.6   m   1977   45   \n",
       "245    c_4904        131        7        0.6   f   1983   39   \n",
       "\n",
       "     panier_moyen_nbr_articles  \n",
       "120                       24.7  \n",
       "154                       18.0  \n",
       "213                       22.5  \n",
       "243                       18.7  \n",
       "245                       18.7  "
      ]
     },
     "execution_count": 123,
     "metadata": {},
     "output_type": "execute_result"
    }
   ],
   "source": [
    "# création d'un dataframe avec le nombre d'achat par client\n",
    "df_nbr_achat = df['client_id'].value_counts()\n",
    "\n",
    "df_nbr_achat = df_nbr_achat.to_frame() #modifier en tant que Dataframe\n",
    "df_nbr_achat['num client'] = df_nbr_achat.index #changer l'index en colonne\n",
    "df_nbr_achat.columns = ['nbr_achat', 'client_id'] #renommer les colonnes\n",
    "df_nbr_achat = df_nbr_achat[['client_id','nbr_achat']] #modifier l'ordre des colonnes\n",
    "\n",
    "#Je récupère le df_freq pour le joindre\n",
    "\n",
    "df_nbr_freq = pd.merge (df_nbr_achat, df_freq)\n",
    "\n",
    "df_nbr_freq['panier_moyen_nbr_articles'] = round(df_nbr_freq['nbr_achat'] / df_nbr_freq['freq_an'], 1) #création de la colonne pour le panier moyen en nombre d'article, arrondi\n",
    "\n",
    "df_nbr_freq_clean = df_nbr_freq[df_nbr_freq['freq_an'] < 9 ] # je retire les mêmes outliers\n",
    "\n",
    "df_nbr_freq_clean.head()\n"
   ]
  },
  {
   "cell_type": "code",
   "execution_count": 124,
   "metadata": {
    "colab": {
     "autoexec": {
      "startup": false,
      "wait_interval": 0
     },
     "base_uri": "https://localhost:8080/",
     "height": 396
    },
    "colab_type": "code",
    "executionInfo": {
     "elapsed": 618,
     "status": "ok",
     "timestamp": 1531389813479,
     "user": {
      "displayName": "Charles",
      "photoUrl": "https://lh3.googleusercontent.com/a/default-user=s128",
      "userId": "110238762482034332813"
     },
     "user_tz": -120
    },
    "id": "oYTybezoNbpU",
    "outputId": "37d1f161-7630-4774-827c-affe5209df7f"
   },
   "outputs": [
    {
     "data": {
      "image/png": "[encoded data removed]",
      "text/plain": [
       "<matplotlib.figure.Figure at 0x1a13462dd8>"
      ]
     },
     "metadata": {},
     "output_type": "display_data"
    },
    {
     "name": "stdout",
     "output_type": "stream",
     "text": [
      "coefficient de Pearson & P-Value (-0.043604334684901255, 0.0015035064774606142)\n"
     ]
    }
   ],
   "source": [
    "#Je crée le diagramme de dispersion et la droite de regression linéaire\n",
    "\n",
    "x, y = (df_nbr_freq_clean[\"age\"],df_nbr_freq_clean[\"panier_moyen_nbr_articles\"])\n",
    "\n",
    "plt.scatter(x,y)\n",
    "\n",
    "regr = linear_model.LinearRegression()\n",
    "regr.fit(x[:,np.newaxis], y)\n",
    "\n",
    "x_test = np.linspace(np.min(x), np.max(x), 100)\n",
    "\n",
    "plt.plot(x_test, regr.predict(x_test[:,np.newaxis]), color='red', linewidth=3)\n",
    "\n",
    "plt.title('corrélation entre l\\'âge des clients et la taille du panier moyen (nbr d’articles)')\n",
    "plt.xlabel('age')\n",
    "plt.ylabel('nbr d\\'articles')\n",
    "\n",
    "plt.savefig('scatterplot age taille panier moyen.png')\n",
    "\n",
    "plt.show()\n",
    "\n",
    "print(\"coefficient de Pearson & P-Value\",scipy.stats.pearsonr(df_nbr_freq_clean[\"age\"], df_nbr_freq_clean[\"panier_moyen_nbr_articles\"]))"
   ]
  },
  {
   "cell_type": "markdown",
   "metadata": {},
   "source": [
    "Il y a donc une dépendance faible entre l'age des clients et la taille du panier moyen"
   ]
  },
  {
   "cell_type": "markdown",
   "metadata": {
    "colab_type": "text",
    "id": "GErsKWa8IBeq"
   },
   "source": [
    "**Y a-t-il une corrélation entre l'âge des clients et les catégories de produits achetés**"
   ]
  },
  {
   "cell_type": "code",
   "execution_count": 125,
   "metadata": {
    "colab": {
     "autoexec": {
      "startup": false,
      "wait_interval": 0
     },
     "base_uri": "https://localhost:8080/",
     "height": 396
    },
    "colab_type": "code",
    "executionInfo": {
     "elapsed": 720,
     "status": "ok",
     "timestamp": 1531389964001,
     "user": {
      "displayName": "Charles",
      "photoUrl": "https://lh3.googleusercontent.com/a/default-user=s128",
      "userId": "110238762482034332813"
     },
     "user_tz": -120
    },
    "id": "T9u__8G2IBet",
    "outputId": "5232edf2-edb4-4ddb-80a6-8164bca3d228"
   },
   "outputs": [
    {
     "name": "stderr",
     "output_type": "stream",
     "text": [
      "/Users/utilisateur/anaconda3/lib/python3.6/site-packages/numpy/core/fromnumeric.py:52: FutureWarning: reshape is deprecated and will raise in a subsequent release. Please use .values.reshape(...) instead\n",
      "  return getattr(obj, method)(*args, **kwds)\n"
     ]
    },
    {
     "data": {
      "image/png": "[encoded data removed]",
      "text/plain": [
       "<matplotlib.figure.Figure at 0x1a22746a20>"
      ]
     },
     "metadata": {},
     "output_type": "display_data"
    },
    {
     "name": "stdout",
     "output_type": "stream",
     "text": [
      "coefficient de Pearson & P-Value (-0.09861243223970774, 0.0)\n"
     ]
    }
   ],
   "source": [
    "X = \"categ\" # qualitative\n",
    "Y = \"age\" # quantitative\n",
    "\n",
    "\n",
    "modalites = df[X].unique()\n",
    "groupes = []\n",
    "for m in modalites:\n",
    "    groupes.append(df[df[X]==m][Y])\n",
    "\n",
    "# Propriétés graphiques    \n",
    "medianprops = {'color':\"black\"}\n",
    "meanprops = {'marker':'o', 'markeredgecolor':'black',\n",
    "            'markerfacecolor':'firebrick'}\n",
    "    \n",
    "plt.boxplot(groupes, labels=modalites, showfliers=False, medianprops=medianprops, \n",
    "            vert=False, patch_artist=True, showmeans=True, meanprops=meanprops)\n",
    "\n",
    "plt.title('corrélation entre l\\'âge des clients et les catégories de produits achetés')\n",
    "plt.xlabel('age')\n",
    "plt.ylabel('catégorie')\n",
    "\n",
    "plt.savefig('boxplot age catégorie.png')\n",
    "\n",
    "plt.show()\n",
    "print(\"coefficient de Pearson & P-Value\",scipy.stats.pearsonr(df[\"categ\"], df[\"age\"]))"
   ]
  },
  {
   "cell_type": "code",
   "execution_count": 126,
   "metadata": {
    "colab": {
     "autoexec": {
      "startup": false,
      "wait_interval": 0
     },
     "base_uri": "https://localhost:8080/",
     "height": 33
    },
    "colab_type": "code",
    "executionInfo": {
     "elapsed": 560,
     "status": "ok",
     "timestamp": 1531388750641,
     "user": {
      "displayName": "Charles",
      "photoUrl": "https://lh3.googleusercontent.com/a/default-user=s128",
      "userId": "110238762482034332813"
     },
     "user_tz": -120
    },
    "id": "0GC7ZG5PJNiZ",
    "outputId": "431a8127-ef8a-4cb3-ec5e-3d051eb5b151",
    "scrolled": true
   },
   "outputs": [
    {
     "data": {
      "text/plain": [
       "0.1188683230368272"
      ]
     },
     "execution_count": 126,
     "metadata": {},
     "output_type": "execute_result"
    }
   ],
   "source": [
    "# Test ANOVA\n",
    "\n",
    "def eta_squared(x,y):\n",
    "    moyenne_y = y.mean()\n",
    "    classes = []\n",
    "    for classe in x.unique():\n",
    "        yi_classe = y[x==classe]\n",
    "        classes.append({'ni': len(yi_classe),\n",
    "                        'moyenne_classe': yi_classe.mean()})\n",
    "    SCT = sum([(yj-moyenne_y)**2 for yj in y])\n",
    "    SCE = sum([c['ni']*(c['moyenne_classe']-moyenne_y)**2 for c in classes])\n",
    "    return SCE/SCT\n",
    "    \n",
    "eta_squared(df[X],df[Y])"
   ]
  },
  {
   "cell_type": "markdown",
   "metadata": {},
   "source": [
    "Il y a donc une dépendance faible entre la catégorie et l'age d'achat"
   ]
  },
  {
   "cell_type": "code",
   "execution_count": 127,
   "metadata": {},
   "outputs": [
    {
     "name": "stdout",
     "output_type": "stream",
     "text": [
      "                sum_sq        df             F  PR(>F)\n",
      "categ     7.320873e+06       2.0  22711.788769     0.0\n",
      "Residual  5.426722e+07  336710.0           NaN     NaN\n"
     ]
    }
   ],
   "source": [
    "#Je réalise un test de Fisher\n",
    "import statsmodels.api as sm\n",
    "from statsmodels.formula.api import ols\n",
    "mod = ols('age ~ categ', data=df).fit()\n",
    "aov_table = sm.stats.anova_lm(mod, typ=2)\n",
    "print (aov_table)"
   ]
  },
  {
   "cell_type": "code",
   "execution_count": null,
   "metadata": {},
   "outputs": [],
   "source": []
  },
  {
   "cell_type": "code",
   "execution_count": null,
   "metadata": {},
   "outputs": [],
   "source": []
  }
 ],
 "metadata": {
  "colab": {
   "collapsed_sections": [
    "E7cf-NhJIBci"
   ],
   "default_view": {},
   "name": "Projet 4.ipynb",
   "provenance": [],
   "version": "0.3.2",
   "views": {}
  },
  "kernelspec": {
   "display_name": "Python 3",
   "language": "python",
   "name": "python3"
  },
  "language_info": {
   "codemirror_mode": {
    "name": "ipython",
    "version": 3
   },
   "file_extension": ".py",
   "mimetype": "text/x-python",
   "name": "python",
   "nbconvert_exporter": "python",
   "pygments_lexer": "ipython3",
   "version": "3.6.4"
  }
 },
 "nbformat": 4,
 "nbformat_minor": 1
}
